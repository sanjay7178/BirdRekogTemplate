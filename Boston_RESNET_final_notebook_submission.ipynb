{
  "cells": [
    {
      "cell_type": "markdown",
      "metadata": {
        "id": "view-in-github",
        "colab_type": "text"
      },
      "source": [
        "<a href=\"https://colab.research.google.com/github/sanjay7178/BirdRekogTemplate/blob/main/Boston_RESNET_final_notebook_submission.ipynb\" target=\"_parent\"><img src=\"https://colab.research.google.com/assets/colab-badge.svg\" alt=\"Open In Colab\"/></a>"
      ]
    },
    {
      "cell_type": "code",
      "execution_count": 1,
      "metadata": {
        "id": "cpyvhLnHEYnD"
      },
      "outputs": [],
      "source": [
        "from keras.applications.vgg16 import VGG16\n",
        "# resnet 50\n",
        "from keras.applications.resnet import ResNet50\n",
        "from keras.preprocessing.image import ImageDataGenerator\n",
        "from keras.models import Sequential\n",
        "from matplotlib import pyplot as plt\n",
        "import numpy as np"
      ]
    },
    {
      "cell_type": "code",
      "source": [
        "from google.colab import drive\n",
        "drive.mount('/content/drive')"
      ],
      "metadata": {
        "colab": {
          "base_uri": "https://localhost:8080/"
        },
        "id": "mlagxDE1Evuq",
        "outputId": "96084d0c-9225-4e5a-deb9-fd01bae5a94e"
      },
      "execution_count": 1,
      "outputs": [
        {
          "output_type": "stream",
          "name": "stdout",
          "text": [
            "Mounted at /content/drive\n"
          ]
        }
      ]
    },
    {
      "cell_type": "code",
      "source": [
        "!cp '/content/drive/MyDrive/resent weed detection/colab/Student Projects.zip' ."
      ],
      "metadata": {
        "id": "bhK_awFIFZuB"
      },
      "execution_count": 125,
      "outputs": []
    },
    {
      "cell_type": "code",
      "source": [
        "!rm -rf 'Student Projects'"
      ],
      "metadata": {
        "id": "qvYMe849pLB6"
      },
      "execution_count": 124,
      "outputs": []
    },
    {
      "cell_type": "code",
      "source": [
        "!unzip '/content/Student Projects.zip'"
      ],
      "metadata": {
        "colab": {
          "base_uri": "https://localhost:8080/"
        },
        "id": "rfi7nso1Fg8I",
        "outputId": "1d05c5d8-1102-4f91-da2f-bfc8abf42d03"
      },
      "execution_count": 126,
      "outputs": [
        {
          "output_type": "stream",
          "name": "stdout",
          "text": [
            "Archive:  /content/Student Projects.zip\n",
            "   creating: Student Projects/\n",
            "   creating: Student Projects/CELOSIA ARGENTEA L/\n",
            "  inflating: Student Projects/CELOSIA ARGENTEA L/138.jpg  \n",
            "  inflating: Student Projects/CELOSIA ARGENTEA L/150.jpg  \n",
            "  inflating: Student Projects/CELOSIA ARGENTEA L/239.jpg  \n",
            "  inflating: Student Projects/CELOSIA ARGENTEA L/247.jpg  \n",
            "  inflating: Student Projects/CELOSIA ARGENTEA L/316.jpg  \n",
            "  inflating: Student Projects/CELOSIA ARGENTEA L/318.jpg  \n",
            "  inflating: Student Projects/CELOSIA ARGENTEA L/35.jpg  \n",
            "  inflating: Student Projects/CELOSIA ARGENTEA L/388.jpg  \n",
            "  inflating: Student Projects/CELOSIA ARGENTEA L/409.jpg  \n",
            "  inflating: Student Projects/CELOSIA ARGENTEA L/410.jpg  \n",
            "  inflating: Student Projects/CELOSIA ARGENTEA L/412.jpg  \n",
            "  inflating: Student Projects/CELOSIA ARGENTEA L/424.jpg  \n",
            "  inflating: Student Projects/CELOSIA ARGENTEA L/47.jpg  \n",
            "  inflating: Student Projects/CELOSIA ARGENTEA L/488.jpg  \n",
            "  inflating: Student Projects/CELOSIA ARGENTEA L/516.jpg  \n",
            "  inflating: Student Projects/CELOSIA ARGENTEA L/525.jpg  \n",
            "  inflating: Student Projects/CELOSIA ARGENTEA L/537.713859e51dc980accf9de75b333bc990.260x190.jpg  \n",
            "  inflating: Student Projects/CELOSIA ARGENTEA L/537.713859e51dc980accf9de75b333bc990.jpg  \n",
            "  inflating: Student Projects/CELOSIA ARGENTEA L/537.7779938a3889eadbfc10583c34bb5667.260x190.jpg  \n",
            "  inflating: Student Projects/CELOSIA ARGENTEA L/537.7779938a3889eadbfc10583c34bb5667.jpg  \n",
            "  inflating: Student Projects/CELOSIA ARGENTEA L/542.44c8bfd4617b1e84993f699d44bb69f4.260x190.jpg  \n",
            "  inflating: Student Projects/CELOSIA ARGENTEA L/542.44c8bfd4617b1e84993f699d44bb69f4.jpg  \n",
            "  inflating: Student Projects/CELOSIA ARGENTEA L/542.5865267f618aef9478cb78b96eeb0b17.260x190.jpg  \n",
            "  inflating: Student Projects/CELOSIA ARGENTEA L/542.7d07150c28bb51324fe248842e8c0d2e.260x190.jpg  \n",
            "  inflating: Student Projects/CELOSIA ARGENTEA L/542.7d07150c28bb51324fe248842e8c0d2e.jpg  \n",
            "  inflating: Student Projects/CELOSIA ARGENTEA L/542.7e7983652265374c24c3086dd1ffb258.260x190.jpg  \n",
            "  inflating: Student Projects/CELOSIA ARGENTEA L/542.7e7983652265374c24c3086dd1ffb258.jpg  \n",
            "  inflating: Student Projects/CELOSIA ARGENTEA L/542.821f07b56721e3d1080e00cc36eafc9d.260x190.jpg  \n",
            "  inflating: Student Projects/CELOSIA ARGENTEA L/542.821f07b56721e3d1080e00cc36eafc9d.jpg  \n",
            "  inflating: Student Projects/CELOSIA ARGENTEA L/542.bdf2f5a4b579f0104ccdb7a700e94709.260x190.jpg  \n",
            "  inflating: Student Projects/CELOSIA ARGENTEA L/542.bdf2f5a4b579f0104ccdb7a700e94709.jpg  \n",
            "  inflating: Student Projects/CELOSIA ARGENTEA L/542.ca66093933c23439316e5ead4e0c954e.260x190.jpg  \n",
            "  inflating: Student Projects/CELOSIA ARGENTEA L/542.ca66093933c23439316e5ead4e0c954e.jpg  \n",
            "  inflating: Student Projects/CELOSIA ARGENTEA L/611.575.130x130.jpg  \n",
            "  inflating: Student Projects/CELOSIA ARGENTEA L/611.575.260x190.jpg  \n",
            "  inflating: Student Projects/CELOSIA ARGENTEA L/611.575.jpg  \n",
            "  inflating: Student Projects/CELOSIA ARGENTEA L/702.jpg  \n",
            "  inflating: Student Projects/CELOSIA ARGENTEA L/799.jpg  \n",
            "  inflating: Student Projects/CELOSIA ARGENTEA L/820.jpg  \n",
            "  inflating: Student Projects/CELOSIA ARGENTEA L/824.jpg  \n",
            "  inflating: Student Projects/CELOSIA ARGENTEA L/836.jpg  \n",
            "  inflating: Student Projects/CELOSIA ARGENTEA L/892.jpg  \n",
            "  inflating: Student Projects/CELOSIA ARGENTEA L/912 (1).jpg  \n",
            "  inflating: Student Projects/CELOSIA ARGENTEA L/928.jpg  \n",
            "  inflating: Student Projects/CELOSIA ARGENTEA L/931.jpg  \n",
            "  inflating: Student Projects/CELOSIA ARGENTEA L/954 (1).jpg  \n",
            "  inflating: Student Projects/CELOSIA ARGENTEA L/954.jpg  \n",
            "  inflating: Student Projects/CELOSIA ARGENTEA L/ceoar_20090217_170348.jpg  \n",
            "  inflating: Student Projects/CELOSIA ARGENTEA L/ceoar_20090217_170422.jpg  \n",
            "  inflating: Student Projects/CELOSIA ARGENTEA L/ceoar_20090217_171835.jpg  \n",
            "  inflating: Student Projects/CELOSIA ARGENTEA L/ceoar_20090217_171926.jpg  \n",
            "  inflating: Student Projects/CELOSIA ARGENTEA L/ceoar_20090217_172034.jpg  \n",
            "  inflating: Student Projects/CELOSIA ARGENTEA L/ceoar_20110701_162424.jpg  \n",
            "  inflating: Student Projects/CELOSIA ARGENTEA L/ceoar_20110701_162429.jpg  \n",
            "  inflating: Student Projects/CELOSIA ARGENTEA L/00ab26d4-71a6-4185-970f-e03166ad10ae.jpeg  \n",
            "  inflating: Student Projects/CELOSIA ARGENTEA L/02c1e6be-7874-4522-8f0e-f31721338e4b.jpeg  \n",
            "  inflating: Student Projects/CELOSIA ARGENTEA L/05b2dc2d-457e-45e5-8673-978b103c206e (1).jpeg  \n",
            "  inflating: Student Projects/CELOSIA ARGENTEA L/05b2dc2d-457e-45e5-8673-978b103c206e.jpeg  \n",
            "  inflating: Student Projects/CELOSIA ARGENTEA L/0a972387-eec9-4fc8-8665-0658a2332af7.jpeg  \n",
            "  inflating: Student Projects/CELOSIA ARGENTEA L/0cb3e491-1cd9-4328-850b-cdea2d399b13.jpeg  \n",
            "  inflating: Student Projects/CELOSIA ARGENTEA L/15414227-4fdc-4415-887e-54653f2150ed.jpeg  \n",
            "  inflating: Student Projects/CELOSIA ARGENTEA L/1cffda84-d376-48da-b8a3-e0caca6c16b6.jpeg  \n",
            "  inflating: Student Projects/CELOSIA ARGENTEA L/1fb852ef-7c1d-4f2a-9331-812a14060f34.jpeg  \n",
            "  inflating: Student Projects/CELOSIA ARGENTEA L/23988564-b739-4e67-87ad-38d9394847c3.jpeg  \n",
            "  inflating: Student Projects/CELOSIA ARGENTEA L/2a46ffe4-0700-4af2-a1ad-eaccd90efa63.jpeg  \n",
            "  inflating: Student Projects/CELOSIA ARGENTEA L/338a9356-339c-4c73-ac4e-9a483989577e.jpeg  \n",
            "  inflating: Student Projects/CELOSIA ARGENTEA L/3b955a9c-1adc-4cb9-a2ec-553dfed2b5e0.jpeg  \n",
            "  inflating: Student Projects/CELOSIA ARGENTEA L/3d00c0c0-f3ae-44ce-921a-818a54574046.jpeg  \n",
            "  inflating: Student Projects/CELOSIA ARGENTEA L/3d5e4c59-73eb-4ec0-95f8-4590f9ff2117.jpeg  \n",
            "  inflating: Student Projects/CELOSIA ARGENTEA L/3f0961a7-4364-42bd-9025-b0a6d3fb0923.jpeg  \n",
            "  inflating: Student Projects/CELOSIA ARGENTEA L/4231fcf3-5ab6-4e52-8b64-9666619bc9ad.jpeg  \n",
            "  inflating: Student Projects/CELOSIA ARGENTEA L/43482207-db7f-4d88-bbf3-ce73c2d8680b (1).jpeg  \n",
            "  inflating: Student Projects/CELOSIA ARGENTEA L/43482207-db7f-4d88-bbf3-ce73c2d8680b.jpeg  \n",
            "  inflating: Student Projects/CELOSIA ARGENTEA L/434a17ff-0b5b-4196-a956-e67dae6d08bb.jpeg  \n",
            "  inflating: Student Projects/CELOSIA ARGENTEA L/4781db71-8d0e-4777-ba19-6dce8fc3a159.jpeg  \n",
            "  inflating: Student Projects/CELOSIA ARGENTEA L/510b366b-de0c-48a4-8fad-df0f2fe0712a.jpeg  \n",
            "  inflating: Student Projects/CELOSIA ARGENTEA L/607b2a48-0ed3-405e-a7e1-8df4c0d37c6f.jpeg  \n",
            "  inflating: Student Projects/CELOSIA ARGENTEA L/60daf254-d604-42b1-9f41-3d63ee868664 (1).jpeg  \n",
            "  inflating: Student Projects/CELOSIA ARGENTEA L/60daf254-d604-42b1-9f41-3d63ee868664.jpeg  \n",
            "  inflating: Student Projects/CELOSIA ARGENTEA L/63ce7940-3889-4cdb-ba67-54d20538c9ba.jpeg  \n",
            "  inflating: Student Projects/CELOSIA ARGENTEA L/6504e7f0-a611-4eb7-bcfb-10c187f6cfc1 (1).jpeg  \n",
            "  inflating: Student Projects/CELOSIA ARGENTEA L/6504e7f0-a611-4eb7-bcfb-10c187f6cfc1.jpeg  \n",
            "  inflating: Student Projects/CELOSIA ARGENTEA L/66c7c19d-f970-4d6b-8f0c-71d0e434e78c.jpeg  \n",
            "  inflating: Student Projects/CELOSIA ARGENTEA L/67257790-5375-401f-829f-4d33bd886d5c.jpeg  \n",
            "  inflating: Student Projects/CELOSIA ARGENTEA L/6e754f92-c81b-43b5-8d58-c3573435b8ac.jpeg  \n",
            "  inflating: Student Projects/CELOSIA ARGENTEA L/7240b058-4a61-4f0b-924e-93ae525701a5.jpeg  \n",
            "  inflating: Student Projects/CELOSIA ARGENTEA L/7a7e4f93-5ba7-42db-97ef-c7323b418fb8.jpeg  \n",
            "  inflating: Student Projects/CELOSIA ARGENTEA L/7ed81c5a-f288-4b2c-8926-496cec969d87.jpeg  \n",
            "  inflating: Student Projects/CELOSIA ARGENTEA L/8708cd32-d8aa-47fc-b9d4-65106f73833f.jpeg  \n",
            "  inflating: Student Projects/CELOSIA ARGENTEA L/92c775a9-c20e-44a4-8492-a2a284195aaf.jpeg  \n",
            "  inflating: Student Projects/CELOSIA ARGENTEA L/9333d48a-6a2c-47cd-97b4-5e51734e5cf8.jpeg  \n",
            "  inflating: Student Projects/CELOSIA ARGENTEA L/9509a98f-a9cd-4364-9455-b54f9fc341c6.jpeg  \n",
            "  inflating: Student Projects/CELOSIA ARGENTEA L/9b14a11d-f59c-490d-a3d8-96bb24c4a337.jpeg  \n",
            "  inflating: Student Projects/CELOSIA ARGENTEA L/9d132792-89f2-42f9-b2fd-a228e54c5a85.jpeg  \n",
            "  inflating: Student Projects/CELOSIA ARGENTEA L/a4b64121-2055-4a8e-9466-e2e6e121cbfe.jpeg  \n",
            "  inflating: Student Projects/CELOSIA ARGENTEA L/a7cb052b-90d3-48a8-a31c-9f178e17e45d.jpeg  \n",
            "  inflating: Student Projects/CELOSIA ARGENTEA L/a9e5a499-b617-445d-be3d-93eb2b2cf7d4.jpeg  \n",
            "  inflating: Student Projects/CELOSIA ARGENTEA L/add28c3c-0356-4039-a157-74bd95993b91.jpeg  \n",
            "  inflating: Student Projects/CELOSIA ARGENTEA L/af4ea350-94bb-49cb-b45d-cc49cd2c1a34.jpeg  \n",
            "  inflating: Student Projects/CELOSIA ARGENTEA L/b026dedf-fc04-435a-8f93-43a14888b5c0.jpeg  \n",
            "  inflating: Student Projects/CELOSIA ARGENTEA L/b91be9ef-1124-4a0e-84ba-5a169fae426a.jpeg  \n",
            "  inflating: Student Projects/CELOSIA ARGENTEA L/ba0ab72f-54d0-47da-8a2e-440cda1c8906.jpeg  \n",
            "  inflating: Student Projects/CELOSIA ARGENTEA L/bb0383ef-3430-411f-bc73-0d9704fd6ed9.jpeg  \n",
            "  inflating: Student Projects/CELOSIA ARGENTEA L/bdc810c8-8399-4dcd-ac08-a8221e3a90eb.jpeg  \n",
            "  inflating: Student Projects/CELOSIA ARGENTEA L/cc77e56e-87b1-46d6-becf-88fe4ba8a61d.jpeg  \n",
            "  inflating: Student Projects/CELOSIA ARGENTEA L/d959381c-58ae-41a3-8168-546770656226.jpeg  \n",
            "  inflating: Student Projects/CELOSIA ARGENTEA L/e21a9b1a-1c02-4011-b701-e04178ab1328.jpeg  \n",
            "  inflating: Student Projects/CELOSIA ARGENTEA L/e7465b31-a2e4-4f5d-af64-ac9f6af51b95.jpeg  \n",
            "  inflating: Student Projects/CELOSIA ARGENTEA L/e7f862ce-c848-4b24-8bdf-00ea737afa0e (1).jpeg  \n",
            "  inflating: Student Projects/CELOSIA ARGENTEA L/e7f862ce-c848-4b24-8bdf-00ea737afa0e.jpeg  \n",
            "  inflating: Student Projects/CELOSIA ARGENTEA L/e7f9e9b3-888b-4f26-969c-7d92f3eb8a25.jpeg  \n",
            "  inflating: Student Projects/CELOSIA ARGENTEA L/eab313df-e7fc-4000-9c02-d9a35e590a97.jpeg  \n",
            "  inflating: Student Projects/CELOSIA ARGENTEA L/f1f4cf54-0606-49f2-893f-d098d6c4f635.jpeg  \n",
            "  inflating: Student Projects/CELOSIA ARGENTEA L/f7a403f2-e5bf-47e6-b7fd-853679009b1d.jpeg  \n",
            "   creating: Student Projects/CROWFOOT GRASS/\n",
            "  inflating: Student Projects/CROWFOOT GRASS/100822ch.jpg  \n",
            "  inflating: Student Projects/CROWFOOT GRASS/1261865877.jpg  \n",
            "  inflating: Student Projects/CROWFOOT GRASS/1406248608.JPG  \n",
            "  inflating: Student Projects/CROWFOOT GRASS/1564842074.jpg  \n",
            "  inflating: Student Projects/CROWFOOT GRASS/2051960663.JPG  \n",
            "  inflating: Student Projects/CROWFOOT GRASS/2051988030.JPG  \n",
            "  inflating: Student Projects/CROWFOOT GRASS/2172optimized.jpg  \n",
            "  inflating: Student Projects/CROWFOOT GRASS/316.jpg  \n",
            "  inflating: Student Projects/CROWFOOT GRASS/818090691.jpg  \n",
            "  inflating: Student Projects/CROWFOOT GRASS/b024fd2f051eba19b81b791a5942b1947d361a33.jpg  \n",
            "  inflating: Student Projects/CROWFOOT GRASS/beach-wiregrass-crowfoot-grass-egyptian-finger-grass-dactyloctenium-aegyptium-l-willd-weed-herb-medicinal-properties-73950840.jpg  \n",
            "  inflating: Student Projects/CROWFOOT GRASS/cee59c4c0537e325ebce5bba331c7f5b60152f16.jpg  \n",
            "  inflating: Student Projects/CROWFOOT GRASS/Crowfoot Grass.jpg  \n",
            "  inflating: Student Projects/CROWFOOT GRASS/Crowfootgrass2.jpg  \n",
            "  inflating: Student Projects/CROWFOOT GRASS/crowfoot-grass-dactyloctenium-aegyptium-green-fresh-blurred-background-garden-crowfoot-grass-dactyloctenium-aegyptium-green-197687233.jpg  \n",
            "  inflating: Student Projects/CROWFOOT GRASS/crowfoot-grass-dactyloctenium-aegyptium-green-fresh-growing-field-closeup-very-quickly-crowfoot-grass-dactyloctenium-196268477.jpg  \n",
            "  inflating: Student Projects/CROWFOOT GRASS/crowfootgrass-p1130048.jpg  \n",
            "  inflating: Student Projects/CROWFOOT GRASS/crowfootgrass-seedhead2.jpg  \n",
            "  inflating: Student Projects/CROWFOOT GRASS/crowsfoot-grass.jpg  \n",
            "  inflating: Student Projects/CROWFOOT GRASS/Dactyloctenium_aegyptium.jpg  \n",
            "  inflating: Student Projects/CROWFOOT GRASS/dactyloctenium_aegyptium_02.jpg  \n",
            "  inflating: Student Projects/CROWFOOT GRASS/dactyloctenium-aegypticum-4.jpg  \n",
            "  inflating: Student Projects/CROWFOOT GRASS/Dactyloctenium-Aegyptium-feature-compressed.jpg  \n",
            "  inflating: Student Projects/CROWFOOT GRASS/Damung-balang.jpg  \n",
            "  inflating: Student Projects/CROWFOOT GRASS/depositphotos_506693788-stock-photo-grass-flowers-swallen-fingergrass-finger.jpg  \n",
            "  inflating: Student Projects/CROWFOOT GRASS/dlc_ae.jpg  \n",
            "  inflating: Student Projects/CROWFOOT GRASS/download (1).jpg  \n",
            "  inflating: Student Projects/CROWFOOT GRASS/download (2).jpg  \n",
            "  inflating: Student Projects/CROWFOOT GRASS/download (3).jpg  \n",
            "  inflating: Student Projects/CROWFOOT GRASS/download (4).jpg  \n",
            "  inflating: Student Projects/CROWFOOT GRASS/download (5).jpg  \n",
            "  inflating: Student Projects/CROWFOOT GRASS/download.jpg  \n",
            "  inflating: Student Projects/CROWFOOT GRASS/dttae_20030605_143112.jpg  \n",
            "  inflating: Student Projects/CROWFOOT GRASS/dttae_20030611_141514.jpg  \n",
            "  inflating: Student Projects/CROWFOOT GRASS/dttae_20050203_160248.jpg  \n",
            "  inflating: Student Projects/CROWFOOT GRASS/dttae_20050203_160248_02.jpg  \n",
            "  inflating: Student Projects/CROWFOOT GRASS/dttae_20051115_135344.jpg  \n",
            "  inflating: Student Projects/CROWFOOT GRASS/dttae_20051115_135522.jpg  \n",
            "  inflating: Student Projects/CROWFOOT GRASS/dttae_20080122_062900.jpg  \n",
            "  inflating: Student Projects/CROWFOOT GRASS/dttae_20080124_112133.jpg  \n",
            "  inflating: Student Projects/CROWFOOT GRASS/dttae_20080124_112134.jpg  \n",
            "  inflating: Student Projects/CROWFOOT GRASS/dttae_20080124_112136.jpg  \n",
            "  inflating: Student Projects/CROWFOOT GRASS/dttae_20080124_112143.jpg  \n",
            "  inflating: Student Projects/CROWFOOT GRASS/dttae_20080609_1012160.jpg  \n",
            "  inflating: Student Projects/CROWFOOT GRASS/dttae_20080609_1012160_10.jpg  \n",
            "  inflating: Student Projects/CROWFOOT GRASS/dttae_20090218_152509.jpg  \n",
            "  inflating: Student Projects/CROWFOOT GRASS/dttae_20090218_153828.jpg  \n",
            "  inflating: Student Projects/CROWFOOT GRASS/dttae_20090219_143818.jpg  \n",
            "  inflating: Student Projects/CROWFOOT GRASS/dttae_20110908_163858.jpg  \n",
            "  inflating: Student Projects/CROWFOOT GRASS/dttae_20110908_164006.jpg  \n",
            "  inflating: Student Projects/CROWFOOT GRASS/dttae_20110908_164022.jpg  \n",
            "  inflating: Student Projects/CROWFOOT GRASS/dttae_20110908_164112.jpg  \n",
            "  inflating: Student Projects/CROWFOOT GRASS/dttae_20110915_160957.jpg  \n",
            "  inflating: Student Projects/CROWFOOT GRASS/egyptian-crowfoot-grass-member-family-poaceae-native-africa-grows-heavy-soils-damp-sites-dactyloctenium-204353464.jpg  \n",
            "  inflating: Student Projects/CROWFOOT GRASS/egyptian-crow-foot-weed-dactyloctenium-aegyptium-egyptian-crowfoot-grass-member-family-poaceae-native-africa-193013458.jpg  \n",
            "  inflating: Student Projects/CROWFOOT GRASS/high-angle-view-close-up-crowfoot-grass-blur-green-background-128359254.jpg  \n",
            "  inflating: Student Projects/CROWFOOT GRASS/images (1).jpg  \n",
            "  inflating: Student Projects/CROWFOOT GRASS/images (2).jpg  \n",
            "  inflating: Student Projects/CROWFOOT GRASS/images (3).jpg  \n",
            "  inflating: Student Projects/CROWFOOT GRASS/images (4).jpg  \n",
            "  inflating: Student Projects/CROWFOOT GRASS/images (5).jpg  \n",
            "  inflating: Student Projects/CROWFOOT GRASS/images (7).jpg  \n",
            "  inflating: Student Projects/CROWFOOT GRASS/images (8).jpg  \n",
            "  inflating: Student Projects/CROWFOOT GRASS/images.jpg  \n",
            "  inflating: Student Projects/CROWFOOT GRASS/images_0.jpg  \n",
            "  inflating: Student Projects/CROWFOOT GRASS/P7300109.jpg  \n",
            "  inflating: Student Projects/CROWFOOT GRASS/ra2ghp.jpg  \n",
            "  inflating: Student Projects/CROWFOOT GRASS/rbnpmp.jpg  \n",
            "  inflating: Student Projects/CROWFOOT GRASS/shutterstock_665072416.jpg  \n",
            "  inflating: Student Projects/CROWFOOT GRASS/stock-photo-the-focus-in-this-photo-is-the-egyptian-crowfoot-grass-flower-or-scientific-term-dactyloctenium-1990172414.jpg  \n",
            "  inflating: Student Projects/CROWFOOT GRASS/t77-1542243.jpg  \n",
            "  inflating: Student Projects/CROWFOOT GRASS/wb33n1.jpg  \n",
            "  inflating: Student Projects/CROWFOOT GRASS/2173d8cd-1db9-48d0-b458-be97b5c76fd8.jpeg  \n",
            "  inflating: Student Projects/CROWFOOT GRASS/290f5e23-48d1-477b-abba-64ec9538d983.jpeg  \n",
            "  inflating: Student Projects/CROWFOOT GRASS/367413dc-b17b-44f7-9e9c-e45e2a0c7000.jpeg  \n",
            "  inflating: Student Projects/CROWFOOT GRASS/394a46b0-e511-426f-b497-9d80ea94d495 (1).jpeg  \n",
            "  inflating: Student Projects/CROWFOOT GRASS/394a46b0-e511-426f-b497-9d80ea94d495.jpeg  \n",
            "  inflating: Student Projects/CROWFOOT GRASS/419043fe-dc62-4cde-9222-8155f1cf6b23.jpeg  \n",
            "  inflating: Student Projects/CROWFOOT GRASS/45187efb-9bc4-4be5-98db-41b7e5d872b9.jpeg  \n",
            "  inflating: Student Projects/CROWFOOT GRASS/518b4d79-c202-4a5f-b3c3-7cb829d84891.jpeg  \n",
            "  inflating: Student Projects/CROWFOOT GRASS/6af0566a-55f3-4f1d-9da3-4cfae9588fab.jpeg  \n",
            "  inflating: Student Projects/CROWFOOT GRASS/6f511a58-8372-42a1-ae11-ae00091f019a.jpeg  \n",
            "  inflating: Student Projects/CROWFOOT GRASS/72841ec7-93dd-4b2a-8762-5c3c0de157da.jpeg  \n",
            "  inflating: Student Projects/CROWFOOT GRASS/735fbf5b-9930-4130-83fb-8219552849c9.jpeg  \n",
            "  inflating: Student Projects/CROWFOOT GRASS/78c9e62c-2d4d-4da1-b407-aa8c628c0eee (1).jpeg  \n",
            "  inflating: Student Projects/CROWFOOT GRASS/827fe3e5-d529-416f-ab03-e5c107ea8842.jpeg  \n",
            "  inflating: Student Projects/CROWFOOT GRASS/8ab0062c-cc15-4f5e-a4a3-2847258798d7.jpeg  \n",
            "  inflating: Student Projects/CROWFOOT GRASS/8ad094ee-fbf2-4980-95f7-462f5e3a35b6.jpeg  \n",
            "  inflating: Student Projects/CROWFOOT GRASS/953e2734-bba7-45d3-a770-7e37f19e7633.jpeg  \n",
            "  inflating: Student Projects/CROWFOOT GRASS/97cc8dbf-35d2-4965-a211-01b5b55bb340.jpeg  \n",
            "  inflating: Student Projects/CROWFOOT GRASS/9c9b8da3-bf77-41fa-9cf5-a9a38551c155.jpeg  \n",
            "  inflating: Student Projects/CROWFOOT GRASS/a63e3ddd-3013-4657-b4e1-0cc561bb95c3.jpeg  \n",
            "  inflating: Student Projects/CROWFOOT GRASS/aa752393-c60d-4d18-9423-93ff3a2ec802.jpeg  \n",
            "  inflating: Student Projects/CROWFOOT GRASS/b186bb09-6f1f-4cdc-a2f6-fbc2c5640a1e (1).jpeg  \n",
            "  inflating: Student Projects/CROWFOOT GRASS/b186bb09-6f1f-4cdc-a2f6-fbc2c5640a1e.jpeg  \n",
            "  inflating: Student Projects/CROWFOOT GRASS/b392282b-879a-47bf-b8b9-b2d1f957dbd0.jpeg  \n",
            "  inflating: Student Projects/CROWFOOT GRASS/b47093b3-ee93-4df0-b892-e0697d694c51.jpeg  \n",
            "  inflating: Student Projects/CROWFOOT GRASS/b9e48c6f-8139-4864-86a1-6aaa38005e03 (1).jpeg  \n",
            "  inflating: Student Projects/CROWFOOT GRASS/b9e48c6f-8139-4864-86a1-6aaa38005e03.jpeg  \n",
            "  inflating: Student Projects/CROWFOOT GRASS/ba00bb23-82dd-4ec6-8f55-33d44fa7a406.jpeg  \n",
            "  inflating: Student Projects/CROWFOOT GRASS/be3effee-8bcb-4a31-bfb2-da9856dd8782.jpeg  \n",
            "  inflating: Student Projects/CROWFOOT GRASS/cdcd2171-0df5-4e5e-b33a-2f4f74c1bafd.jpeg  \n",
            "  inflating: Student Projects/CROWFOOT GRASS/cf7242cd-a430-4b66-9380-846a9a6844c7.jpeg  \n",
            "  inflating: Student Projects/CROWFOOT GRASS/d1377a1c-5197-48f4-b079-392049ec77b4.jpeg  \n",
            "  inflating: Student Projects/CROWFOOT GRASS/d8862aad-4fd3-4b15-8781-d6b4a513b009.jpeg  \n",
            "  inflating: Student Projects/CROWFOOT GRASS/dcb310d0-25aa-4be4-be81-f0dfcb53c993.jpeg  \n",
            "  inflating: Student Projects/CROWFOOT GRASS/e1a82154-405e-4b15-8acb-ee7fe0ebcb27.jpeg  \n",
            "  inflating: Student Projects/CROWFOOT GRASS/e4f3c948-7570-49fe-9f5a-78732a070fb3.jpeg  \n",
            "  inflating: Student Projects/CROWFOOT GRASS/e9759497-f3b3-4ac7-b385-1c88ef5d2742.jpeg  \n",
            "  inflating: Student Projects/CROWFOOT GRASS/f01f22ff-368c-4188-b890-c0cfc35bc8cc.jpeg  \n",
            "  inflating: Student Projects/CROWFOOT GRASS/f456ab63-7dae-472b-823d-7bafee615869.jpeg  \n",
            "  inflating: Student Projects/CROWFOOT GRASS/f4d495b1-0bfa-452e-bbb9-7c5d01abe161.jpeg  \n",
            "  inflating: Student Projects/CROWFOOT GRASS/f8e08cb0-5ec5-418b-9259-f62fa9542fb3.jpeg  \n",
            "   creating: Student Projects/PURPLE CHLORIS/\n",
            "  inflating: Student Projects/PURPLE CHLORIS/113265_01.jpg  \n",
            "  inflating: Student Projects/PURPLE CHLORIS/113265_02.jpg  \n",
            "  inflating: Student Projects/PURPLE CHLORIS/113265_03.jpg  \n",
            "  inflating: Student Projects/PURPLE CHLORIS/15054-888x1200.jpeg  \n",
            "  inflating: Student Projects/PURPLE CHLORIS/1629167944-chlorisinflata3.jpg  \n",
            "  inflating: Student Projects/PURPLE CHLORIS/307.jpg  \n",
            "  inflating: Student Projects/PURPLE CHLORIS/640px-Starr_040608-0108_Chloris_virgata.jpg  \n",
            "  inflating: Student Projects/PURPLE CHLORIS/Annual-Ryegrass.jpg  \n",
            "  inflating: Student Projects/PURPLE CHLORIS/beautiful-chloris-barbata-dry-grass-background-yellow-grass-beautiful-chloris-barbata-269818747.jpg  \n",
            "  inflating: Student Projects/PURPLE CHLORIS/Buffel+Grass+2020-10+(9).jpg  \n",
            "  inflating: Student Projects/PURPLE CHLORIS/Buffel+Grass+2022-05+(1).jpg  \n",
            "  inflating: Student Projects/PURPLE CHLORIS/cambodia-chloris-virgata-species-grass-known-common-names-feather-fingergrass-feathery-rhodes-windmillgrass-254975949.jpg  \n",
            "  inflating: Student Projects/PURPLE CHLORIS/chloris_gayana_seedhead_star.jpg  \n",
            "  inflating: Student Projects/PURPLE CHLORIS/chloris_gayana_seedhead_starr2.jpg  \n",
            "  inflating: Student Projects/PURPLE CHLORIS/chloris-barbata-flower-nature-garden-close-up-261121601.jpg  \n",
            "  inflating: Student Projects/PURPLE CHLORIS/chloris-barbata-swollen-fingergrass-purpletop-widespread-species-flowering-plant-grass-family-poaceae-269815043.jpg  \n",
            "  inflating: Student Projects/PURPLE CHLORIS/chlorisgayana26.jpg  \n",
            "  inflating: Student Projects/PURPLE CHLORIS/chlorisgayana6.jpg  \n",
            "  inflating: Student Projects/PURPLE CHLORIS/chloris-virgata-flower-blooming-green-260nw-2277503427.jpg  \n",
            "  inflating: Student Projects/PURPLE CHLORIS/chloris-virgata-flower-blooming-green-260nw-2278679079.jpg  \n",
            "  inflating: Student Projects/PURPLE CHLORIS/chloris-virgata-species-grass-known-260nw-1739516156.jpg  \n",
            "  inflating: Student Projects/PURPLE CHLORIS/choris_spp2.jpg  \n",
            "  inflating: Student Projects/PURPLE CHLORIS/chr_ba.jpg  \n",
            "  inflating: Student Projects/PURPLE CHLORIS/close-up-green-grass-chloris-virgata-plants-garden-blurred-background-macro-image-sweet-color-card-design-pink-195334098.jpg  \n",
            "  inflating: Student Projects/PURPLE CHLORIS/crowsfoot-grass-eleusine-indica-flower-seed-head-800x451px.jpg  \n",
            "  inflating: Student Projects/PURPLE CHLORIS/cyperus-congestus-01.1200x0-u0i1s1q90f1.jpg  \n",
            "  inflating: Student Projects/PURPLE CHLORIS/destaca-weeds-commercial-sep2021-1160x665.jpg  \n",
            "  inflating: Student Projects/PURPLE CHLORIS/download (1).jpg  \n",
            "  inflating: Student Projects/PURPLE CHLORIS/download (10).jpg  \n",
            "  inflating: Student Projects/PURPLE CHLORIS/download (11).jpg  \n",
            "  inflating: Student Projects/PURPLE CHLORIS/download (12).jpg  \n",
            "  inflating: Student Projects/PURPLE CHLORIS/download (13).jpg  \n",
            "  inflating: Student Projects/PURPLE CHLORIS/download (14).jpg  \n",
            "  inflating: Student Projects/PURPLE CHLORIS/download (16).jpg  \n",
            "  inflating: Student Projects/PURPLE CHLORIS/download (17).jpg  \n",
            "  inflating: Student Projects/PURPLE CHLORIS/download (18).jpg  \n",
            "  inflating: Student Projects/PURPLE CHLORIS/download (2).jpg  \n",
            "  inflating: Student Projects/PURPLE CHLORIS/download (3).jpg  \n",
            "  inflating: Student Projects/PURPLE CHLORIS/download (4).jpg  \n",
            "  inflating: Student Projects/PURPLE CHLORIS/download (5).jpg  \n",
            "  inflating: Student Projects/PURPLE CHLORIS/download (7).jpg  \n",
            "  inflating: Student Projects/PURPLE CHLORIS/download (8).jpg  \n",
            "  inflating: Student Projects/PURPLE CHLORIS/download (9).jpg  \n",
            "  inflating: Student Projects/PURPLE CHLORIS/feather-fingergrass-chloris-virgata-feathery-260nw-2214128677.jpg  \n",
            "  inflating: Student Projects/PURPLE CHLORIS/feather-fingergrass-chloris-virgata-feathery-260nw-2214128687.jpg  \n",
            "  inflating: Student Projects/PURPLE CHLORIS/flower-that-is-shaped-like-flower_859093-147.jpg  \n",
            "  inflating: Student Projects/PURPLE CHLORIS/images (10).jpg  \n",
            "  inflating: Student Projects/PURPLE CHLORIS/images (12).jpg  \n",
            "  inflating: Student Projects/PURPLE CHLORIS/images (13).jpg  \n",
            "  inflating: Student Projects/PURPLE CHLORIS/images (14).jpg  \n",
            "  inflating: Student Projects/PURPLE CHLORIS/images (2).jpg  \n",
            "  inflating: Student Projects/PURPLE CHLORIS/images (4).jpg  \n",
            "  inflating: Student Projects/PURPLE CHLORIS/images (6).jpg  \n",
            "  inflating: Student Projects/PURPLE CHLORIS/images (7).jpg  \n",
            "  inflating: Student Projects/PURPLE CHLORIS/images (8).jpg  \n",
            "  inflating: Student Projects/PURPLE CHLORIS/images (9).jpg  \n",
            "  inflating: Student Projects/PURPLE CHLORIS/images.jpg  \n",
            "  inflating: Student Projects/PURPLE CHLORIS/IMG_0171.png  \n",
            "  inflating: Student Projects/PURPLE CHLORIS/IMG_0176.png  \n",
            "  inflating: Student Projects/PURPLE CHLORIS/IMG-20190501-125752.jpg  \n",
            "  inflating: Student Projects/PURPLE CHLORIS/rhodes_grass_spike_australia_0.jpg  \n",
            "  inflating: Student Projects/PURPLE CHLORIS/047b57cd-c3bd-4f7b-82d4-a41165219bc1.jpeg  \n",
            "  inflating: Student Projects/PURPLE CHLORIS/05556a38-4dd9-4e0a-87c1-919d375a5188.jpeg  \n",
            "  inflating: Student Projects/PURPLE CHLORIS/17b5db2f-e079-4a47-acf7-f94d4f53055e.jpeg  \n",
            "  inflating: Student Projects/PURPLE CHLORIS/1893c826-811b-421c-a229-02db972e318f.jpeg  \n",
            "  inflating: Student Projects/PURPLE CHLORIS/26d62825-7e85-4c65-b7d6-ead7142da1ba.jpeg  \n",
            "  inflating: Student Projects/PURPLE CHLORIS/28a6b0ea-5783-4198-a1fa-b36ee0304f6e (1).jpeg  \n",
            "  inflating: Student Projects/PURPLE CHLORIS/28a6b0ea-5783-4198-a1fa-b36ee0304f6e.jpeg  \n",
            "  inflating: Student Projects/PURPLE CHLORIS/3099c60c-34f0-4ca7-aff4-b0e0b2f1cc61.jpeg  \n",
            "  inflating: Student Projects/PURPLE CHLORIS/32be85a5-85ad-4cd5-86d0-c6e64123c71f.jpeg  \n",
            "  inflating: Student Projects/PURPLE CHLORIS/33983743-8324-4b40-8573-90cae43d0734 (1).jpeg  \n",
            "  inflating: Student Projects/PURPLE CHLORIS/33983743-8324-4b40-8573-90cae43d0734.jpeg  \n",
            "  inflating: Student Projects/PURPLE CHLORIS/33e571bd-016a-4f4a-8c51-9483c3e6b4f7.jpeg  \n",
            "  inflating: Student Projects/PURPLE CHLORIS/36d03b0d-48d3-40c6-9865-cca3a079c72e.jpeg  \n",
            "  inflating: Student Projects/PURPLE CHLORIS/414b31a4-3359-4ccd-9942-1485bb3334f8.jpeg  \n",
            "  inflating: Student Projects/PURPLE CHLORIS/507c2fcb-1800-41b2-814d-bcb23bf898b8 (1).jpeg  \n",
            "  inflating: Student Projects/PURPLE CHLORIS/507c2fcb-1800-41b2-814d-bcb23bf898b8.jpeg  \n",
            "  inflating: Student Projects/PURPLE CHLORIS/5294968b-702a-4728-86b9-416f1e2293a8.jpeg  \n",
            "  inflating: Student Projects/PURPLE CHLORIS/65df0200-1433-4a91-9be3-87b4e902dade (1).jpeg  \n",
            "  inflating: Student Projects/PURPLE CHLORIS/65df0200-1433-4a91-9be3-87b4e902dade.jpeg  \n",
            "  inflating: Student Projects/PURPLE CHLORIS/69c6a707-91a8-4ef0-be0f-eb4472bdcdfe.jpeg  \n",
            "  inflating: Student Projects/PURPLE CHLORIS/714b0b9d-67ef-4c2d-b539-5ab30b0f4e02.jpeg  \n",
            "  inflating: Student Projects/PURPLE CHLORIS/728a5f61-fca5-4d52-a19b-3bdafcbdcd4a (1).jpeg  \n",
            "  inflating: Student Projects/PURPLE CHLORIS/728a5f61-fca5-4d52-a19b-3bdafcbdcd4a (2).jpeg  \n",
            "  inflating: Student Projects/PURPLE CHLORIS/728a5f61-fca5-4d52-a19b-3bdafcbdcd4a.jpeg  \n",
            "  inflating: Student Projects/PURPLE CHLORIS/758f8c9a-7fbc-47cb-b717-bf8729d67542.jpeg  \n",
            "  inflating: Student Projects/PURPLE CHLORIS/78f58d0f-48e1-4ea2-9b03-f1a8a3fdd3f9.jpeg  \n",
            "  inflating: Student Projects/PURPLE CHLORIS/795f2dab-e1b2-4521-956b-ee68d01af22c (1).jpeg  \n",
            "  inflating: Student Projects/PURPLE CHLORIS/795f2dab-e1b2-4521-956b-ee68d01af22c.jpeg  \n",
            "  inflating: Student Projects/PURPLE CHLORIS/812a96ec-df78-413c-a441-3cc31a12c4fd.jpeg  \n",
            "  inflating: Student Projects/PURPLE CHLORIS/844f7ea4-a559-4e49-833e-8af339ead224.jpeg  \n",
            "  inflating: Student Projects/PURPLE CHLORIS/86d1ac8d-4c6d-43b3-85a4-f6d2110b29ba.jpeg  \n",
            "  inflating: Student Projects/PURPLE CHLORIS/870eb8f7-aab8-49e7-97b2-9b3a2800bc61.jpeg  \n",
            "  inflating: Student Projects/PURPLE CHLORIS/90fc8e61-ab1e-468e-bad3-637ba6f1c222.jpeg  \n",
            "  inflating: Student Projects/PURPLE CHLORIS/a687617c-441b-4848-a407-3fd1c14008ce.jpeg  \n",
            "  inflating: Student Projects/PURPLE CHLORIS/ab082aec-ea7a-4a74-a931-0bbb4912b7a8.jpeg  \n",
            "  inflating: Student Projects/PURPLE CHLORIS/abcaf894-0310-406c-bd7e-4374cc591092.jpeg  \n",
            "  inflating: Student Projects/PURPLE CHLORIS/b457c2e5-c778-4139-b2b7-efca52b14076.jpeg  \n",
            "  inflating: Student Projects/PURPLE CHLORIS/c2945ff9-ba8c-4fdd-9f77-f738a181e8bd.jpeg  \n",
            "  inflating: Student Projects/PURPLE CHLORIS/c37fcb7b-f834-4cc4-a7b3-44021f351ae9.jpeg  \n",
            "  inflating: Student Projects/PURPLE CHLORIS/c414a8e6-f542-4185-83e7-6bf91a5844e7.jpeg  \n",
            "  inflating: Student Projects/PURPLE CHLORIS/c802b409-82b4-4fad-8b0c-9335b59ccd90.jpeg  \n",
            "  inflating: Student Projects/PURPLE CHLORIS/ca4615a9-8875-466c-ab9f-739d370e4283.jpeg  \n",
            "  inflating: Student Projects/PURPLE CHLORIS/d4179319-72e8-4035-99d4-41d1301370f2.jpeg  \n",
            "  inflating: Student Projects/PURPLE CHLORIS/dd5f0525-8da7-4034-9549-5f1e2ede1b6f.jpeg  \n",
            "  inflating: Student Projects/PURPLE CHLORIS/e035cbff-3f4e-45aa-8bc6-8c9be5106b37.jpeg  \n",
            "  inflating: Student Projects/PURPLE CHLORIS/ed227651-9e3a-4bac-9aa3-1de48810f9f2.jpeg  \n",
            "  inflating: Student Projects/PURPLE CHLORIS/ede700d6-286b-4d2e-824c-6d411e8fae71.jpeg  \n",
            "  inflating: Student Projects/PURPLE CHLORIS/ee871c5d-bbfa-4816-8def-c8269c03aed6.jpeg  \n",
            "  inflating: Student Projects/PURPLE CHLORIS/f19e00c2-963a-4d65-9603-293127f98557.jpeg  \n",
            "  inflating: Student Projects/PURPLE CHLORIS/f4c72e3c-bb97-4bf0-9b98-bd70264070ad.jpeg  \n",
            "  inflating: Student Projects/PURPLE CHLORIS/f8463db1-51f5-4a47-b63e-08ee75af5f74 (1).jpeg  \n",
            "  inflating: Student Projects/PURPLE CHLORIS/f8463db1-51f5-4a47-b63e-08ee75af5f74.jpeg  \n",
            "  inflating: Student Projects/PURPLE CHLORIS/fc509bda-f8f1-43fb-8796-6ee8daeb0008.jpeg  \n",
            "  inflating: Student Projects/PURPLE CHLORIS/fd36e5de-06cd-4357-8077-3f71fefae837.jpeg  \n"
          ]
        }
      ]
    },
    {
      "cell_type": "code",
      "source": [
        "!pwd"
      ],
      "metadata": {
        "colab": {
          "base_uri": "https://localhost:8080/"
        },
        "id": "Wrhcg9hbFT-E",
        "outputId": "23f33f39-7c53-475d-b9d5-80636ea99acb"
      },
      "execution_count": 49,
      "outputs": [
        {
          "output_type": "stream",
          "name": "stdout",
          "text": [
            "/content\n"
          ]
        }
      ]
    },
    {
      "cell_type": "markdown",
      "metadata": {
        "id": "qoNw5WibEYnK"
      },
      "source": [
        "visualizing data\n",
        "generate dataset for training"
      ]
    },
    {
      "cell_type": "code",
      "execution_count": 2,
      "metadata": {
        "colab": {
          "base_uri": "https://localhost:8080/"
        },
        "id": "rJDVQ8UHEYnO",
        "outputId": "448ec4f6-834e-4ed1-ca75-4938a46ad63f"
      },
      "outputs": [
        {
          "output_type": "stream",
          "name": "stdout",
          "text": [
            "Num GPUs Available:  1\n"
          ]
        }
      ],
      "source": [
        "import tensorflow as tf\n",
        "print(\"Num GPUs Available: \", len(tf.config.list_physical_devices('GPU')))"
      ]
    },
    {
      "cell_type": "code",
      "source": [
        "!pip install  split-folders\n"
      ],
      "metadata": {
        "colab": {
          "base_uri": "https://localhost:8080/"
        },
        "id": "qEK9knXDdO3F",
        "outputId": "af5a7852-0b37-4f52-89c2-ca075564cd1a"
      },
      "execution_count": 3,
      "outputs": [
        {
          "output_type": "stream",
          "name": "stdout",
          "text": [
            "Looking in indexes: https://pypi.org/simple, https://us-python.pkg.dev/colab-wheels/public/simple/\n",
            "Requirement already satisfied: split-folders in /usr/local/lib/python3.9/dist-packages (0.5.1)\n"
          ]
        }
      ]
    },
    {
      "cell_type": "code",
      "execution_count": 127,
      "metadata": {
        "colab": {
          "base_uri": "https://localhost:8080/"
        },
        "id": "V2YGPhIlEYnP",
        "outputId": "da7bb4a1-0b16-4f1b-8681-a33af811707d"
      },
      "outputs": [
        {
          "output_type": "stream",
          "name": "stderr",
          "text": [
            "Copying files: 342 files [00:00, 2816.12 files/s]\n"
          ]
        }
      ],
      "source": [
        "import splitfolders\n",
        "splitfolders.ratio(\"Student Projects\", output=\"output8\",\n",
        "    seed=1337, ratio=(.7, .2,.1), group_prefix=None, move=False) # default values"
      ]
    },
    {
      "cell_type": "code",
      "execution_count": 4,
      "metadata": {
        "id": "SfRhjD22EYnQ"
      },
      "outputs": [],
      "source": [
        "image_size = [224, 224, 3] # fix image size"
      ]
    },
    {
      "cell_type": "code",
      "source": [
        "!ls"
      ],
      "metadata": {
        "colab": {
          "base_uri": "https://localhost:8080/"
        },
        "id": "VmCSP08wI5Qu",
        "outputId": "cc2dc0f1-3c5c-40a2-e221-3439e7e20c32"
      },
      "execution_count": 4,
      "outputs": [
        {
          "output_type": "stream",
          "name": "stdout",
          "text": [
            " drive\t       output4\t     output8\t\t'Student Projects (2).zip'\n",
            " output        output4.zip   output.zip\t\t'Student Projects.zip'\n",
            " output1       output5\t     sample_data\n",
            " output1.zip   output7\t    'Student Projects'\n"
          ]
        }
      ]
    },
    {
      "cell_type": "code",
      "execution_count": 5,
      "metadata": {
        "id": "r_TyX22QEYnR"
      },
      "outputs": [],
      "source": [
        "train_dir = 'output8/train' #training dataset folder\n",
        "val_dir = 'output8/val' #testing dataset folder"
      ]
    },
    {
      "cell_type": "code",
      "execution_count": 6,
      "metadata": {
        "id": "WP9sXVynEYnS"
      },
      "outputs": [],
      "source": [
        "train_data_gen = ImageDataGenerator(rescale=1. / 225)\n",
        "val_data_gen = ImageDataGenerator(rescale=1. / 225 )"
      ]
    },
    {
      "cell_type": "markdown",
      "source": [
        "##Augmentation"
      ],
      "metadata": {
        "id": "mzR_WPrINpSi"
      }
    },
    {
      "cell_type": "code",
      "source": [
        "train_data_gen = ImageDataGenerator(\n",
        "    rotation_range=20,\n",
        "        rescale=1./255,\n",
        "        shear_range=0.2,\n",
        "        zoom_range=0.2,\n",
        "        horizontal_flip=True)\n",
        "val_data_gen  = ImageDataGenerator(\n",
        "    rotation_range=20,\n",
        "        rescale=1./255,\n",
        "        shear_range=0.2,\n",
        "        zoom_range=0.2,\n",
        "        horizontal_flip=True)"
      ],
      "metadata": {
        "id": "7Nf1SFlcNoKS"
      },
      "execution_count": 10,
      "outputs": []
    },
    {
      "cell_type": "markdown",
      "source": [],
      "metadata": {
        "id": "Q6FD10V-NdpQ"
      }
    },
    {
      "cell_type": "code",
      "execution_count": 11,
      "metadata": {
        "colab": {
          "base_uri": "https://localhost:8080/"
        },
        "id": "Lc20guOJEYnT",
        "outputId": "9bc8320c-34c2-4e15-b298-a28183997060"
      },
      "outputs": [
        {
          "output_type": "stream",
          "name": "stdout",
          "text": [
            "Found 238 images belonging to 3 classes.\n",
            "Found 67 images belonging to 3 classes.\n"
          ]
        }
      ],
      "source": [
        "train_data = train_data_gen.flow_from_directory(train_dir, target_size=(120,120), class_mode='categorical', batch_size=64)\n",
        "val_data = val_data_gen.flow_from_directory(val_dir, target_size=(120,120), class_mode='categorical', batch_size=64)"
      ]
    },
    {
      "cell_type": "markdown",
      "metadata": {
        "id": "iQwxGYLCEYnU"
      },
      "source": [
        "building deep learning model using pre trained weights "
      ]
    },
    {
      "cell_type": "code",
      "source": [
        "from keras.applications.mobilenet_v2 import MobileNetV2\n",
        "# from tensorflow.keras.applications import EfficientNetB0"
      ],
      "metadata": {
        "id": "uz5Yu-jxRjBs"
      },
      "execution_count": 12,
      "outputs": []
    },
    {
      "cell_type": "code",
      "source": [],
      "metadata": {
        "id": "L-9XIDhbobo5"
      },
      "execution_count": null,
      "outputs": []
    },
    {
      "cell_type": "code",
      "execution_count": 13,
      "metadata": {
        "id": "duAY52O8EYnV"
      },
      "outputs": [],
      "source": [
        "mbnet = MobileNetV2(include_top=False, weights='imagenet', input_shape=(224,224,3))\n"
      ]
    },
    {
      "cell_type": "code",
      "execution_count": 15,
      "metadata": {
        "id": "N-phNBvrEYnV"
      },
      "outputs": [],
      "source": [
        "mbnet.trainable=True\n",
        "for layer in mbnet.layers:\n",
        "    layer.trainable = False"
      ]
    },
    {
      "cell_type": "code",
      "execution_count": 16,
      "metadata": {
        "colab": {
          "base_uri": "https://localhost:8080/"
        },
        "id": "zVlFhX7vEYnW",
        "outputId": "2c1a4fbf-f149-4069-fe77-f1f35ac58058"
      },
      "outputs": [
        {
          "output_type": "stream",
          "name": "stdout",
          "text": [
            "Model: \"mobilenetv2_1.00_224\"\n",
            "__________________________________________________________________________________________________\n",
            " Layer (type)                   Output Shape         Param #     Connected to                     \n",
            "==================================================================================================\n",
            " input_1 (InputLayer)           [(None, 224, 224, 3  0           []                               \n",
            "                                )]                                                                \n",
            "                                                                                                  \n",
            " Conv1 (Conv2D)                 (None, 112, 112, 32  864         ['input_1[0][0]']                \n",
            "                                )                                                                 \n",
            "                                                                                                  \n",
            " bn_Conv1 (BatchNormalization)  (None, 112, 112, 32  128         ['Conv1[0][0]']                  \n",
            "                                )                                                                 \n",
            "                                                                                                  \n",
            " Conv1_relu (ReLU)              (None, 112, 112, 32  0           ['bn_Conv1[0][0]']               \n",
            "                                )                                                                 \n",
            "                                                                                                  \n",
            " expanded_conv_depthwise (Depth  (None, 112, 112, 32  288        ['Conv1_relu[0][0]']             \n",
            " wiseConv2D)                    )                                                                 \n",
            "                                                                                                  \n",
            " expanded_conv_depthwise_BN (Ba  (None, 112, 112, 32  128        ['expanded_conv_depthwise[0][0]']\n",
            " tchNormalization)              )                                                                 \n",
            "                                                                                                  \n",
            " expanded_conv_depthwise_relu (  (None, 112, 112, 32  0          ['expanded_conv_depthwise_BN[0][0\n",
            " ReLU)                          )                                ]']                              \n",
            "                                                                                                  \n",
            " expanded_conv_project (Conv2D)  (None, 112, 112, 16  512        ['expanded_conv_depthwise_relu[0]\n",
            "                                )                                [0]']                            \n",
            "                                                                                                  \n",
            " expanded_conv_project_BN (Batc  (None, 112, 112, 16  64         ['expanded_conv_project[0][0]']  \n",
            " hNormalization)                )                                                                 \n",
            "                                                                                                  \n",
            " block_1_expand (Conv2D)        (None, 112, 112, 96  1536        ['expanded_conv_project_BN[0][0]'\n",
            "                                )                                ]                                \n",
            "                                                                                                  \n",
            " block_1_expand_BN (BatchNormal  (None, 112, 112, 96  384        ['block_1_expand[0][0]']         \n",
            " ization)                       )                                                                 \n",
            "                                                                                                  \n",
            " block_1_expand_relu (ReLU)     (None, 112, 112, 96  0           ['block_1_expand_BN[0][0]']      \n",
            "                                )                                                                 \n",
            "                                                                                                  \n",
            " block_1_pad (ZeroPadding2D)    (None, 113, 113, 96  0           ['block_1_expand_relu[0][0]']    \n",
            "                                )                                                                 \n",
            "                                                                                                  \n",
            " block_1_depthwise (DepthwiseCo  (None, 56, 56, 96)  864         ['block_1_pad[0][0]']            \n",
            " nv2D)                                                                                            \n",
            "                                                                                                  \n",
            " block_1_depthwise_BN (BatchNor  (None, 56, 56, 96)  384         ['block_1_depthwise[0][0]']      \n",
            " malization)                                                                                      \n",
            "                                                                                                  \n",
            " block_1_depthwise_relu (ReLU)  (None, 56, 56, 96)   0           ['block_1_depthwise_BN[0][0]']   \n",
            "                                                                                                  \n",
            " block_1_project (Conv2D)       (None, 56, 56, 24)   2304        ['block_1_depthwise_relu[0][0]'] \n",
            "                                                                                                  \n",
            " block_1_project_BN (BatchNorma  (None, 56, 56, 24)  96          ['block_1_project[0][0]']        \n",
            " lization)                                                                                        \n",
            "                                                                                                  \n",
            " block_2_expand (Conv2D)        (None, 56, 56, 144)  3456        ['block_1_project_BN[0][0]']     \n",
            "                                                                                                  \n",
            " block_2_expand_BN (BatchNormal  (None, 56, 56, 144)  576        ['block_2_expand[0][0]']         \n",
            " ization)                                                                                         \n",
            "                                                                                                  \n",
            " block_2_expand_relu (ReLU)     (None, 56, 56, 144)  0           ['block_2_expand_BN[0][0]']      \n",
            "                                                                                                  \n",
            " block_2_depthwise (DepthwiseCo  (None, 56, 56, 144)  1296       ['block_2_expand_relu[0][0]']    \n",
            " nv2D)                                                                                            \n",
            "                                                                                                  \n",
            " block_2_depthwise_BN (BatchNor  (None, 56, 56, 144)  576        ['block_2_depthwise[0][0]']      \n",
            " malization)                                                                                      \n",
            "                                                                                                  \n",
            " block_2_depthwise_relu (ReLU)  (None, 56, 56, 144)  0           ['block_2_depthwise_BN[0][0]']   \n",
            "                                                                                                  \n",
            " block_2_project (Conv2D)       (None, 56, 56, 24)   3456        ['block_2_depthwise_relu[0][0]'] \n",
            "                                                                                                  \n",
            " block_2_project_BN (BatchNorma  (None, 56, 56, 24)  96          ['block_2_project[0][0]']        \n",
            " lization)                                                                                        \n",
            "                                                                                                  \n",
            " block_2_add (Add)              (None, 56, 56, 24)   0           ['block_1_project_BN[0][0]',     \n",
            "                                                                  'block_2_project_BN[0][0]']     \n",
            "                                                                                                  \n",
            " block_3_expand (Conv2D)        (None, 56, 56, 144)  3456        ['block_2_add[0][0]']            \n",
            "                                                                                                  \n",
            " block_3_expand_BN (BatchNormal  (None, 56, 56, 144)  576        ['block_3_expand[0][0]']         \n",
            " ization)                                                                                         \n",
            "                                                                                                  \n",
            " block_3_expand_relu (ReLU)     (None, 56, 56, 144)  0           ['block_3_expand_BN[0][0]']      \n",
            "                                                                                                  \n",
            " block_3_pad (ZeroPadding2D)    (None, 57, 57, 144)  0           ['block_3_expand_relu[0][0]']    \n",
            "                                                                                                  \n",
            " block_3_depthwise (DepthwiseCo  (None, 28, 28, 144)  1296       ['block_3_pad[0][0]']            \n",
            " nv2D)                                                                                            \n",
            "                                                                                                  \n",
            " block_3_depthwise_BN (BatchNor  (None, 28, 28, 144)  576        ['block_3_depthwise[0][0]']      \n",
            " malization)                                                                                      \n",
            "                                                                                                  \n",
            " block_3_depthwise_relu (ReLU)  (None, 28, 28, 144)  0           ['block_3_depthwise_BN[0][0]']   \n",
            "                                                                                                  \n",
            " block_3_project (Conv2D)       (None, 28, 28, 32)   4608        ['block_3_depthwise_relu[0][0]'] \n",
            "                                                                                                  \n",
            " block_3_project_BN (BatchNorma  (None, 28, 28, 32)  128         ['block_3_project[0][0]']        \n",
            " lization)                                                                                        \n",
            "                                                                                                  \n",
            " block_4_expand (Conv2D)        (None, 28, 28, 192)  6144        ['block_3_project_BN[0][0]']     \n",
            "                                                                                                  \n",
            " block_4_expand_BN (BatchNormal  (None, 28, 28, 192)  768        ['block_4_expand[0][0]']         \n",
            " ization)                                                                                         \n",
            "                                                                                                  \n",
            " block_4_expand_relu (ReLU)     (None, 28, 28, 192)  0           ['block_4_expand_BN[0][0]']      \n",
            "                                                                                                  \n",
            " block_4_depthwise (DepthwiseCo  (None, 28, 28, 192)  1728       ['block_4_expand_relu[0][0]']    \n",
            " nv2D)                                                                                            \n",
            "                                                                                                  \n",
            " block_4_depthwise_BN (BatchNor  (None, 28, 28, 192)  768        ['block_4_depthwise[0][0]']      \n",
            " malization)                                                                                      \n",
            "                                                                                                  \n",
            " block_4_depthwise_relu (ReLU)  (None, 28, 28, 192)  0           ['block_4_depthwise_BN[0][0]']   \n",
            "                                                                                                  \n",
            " block_4_project (Conv2D)       (None, 28, 28, 32)   6144        ['block_4_depthwise_relu[0][0]'] \n",
            "                                                                                                  \n",
            " block_4_project_BN (BatchNorma  (None, 28, 28, 32)  128         ['block_4_project[0][0]']        \n",
            " lization)                                                                                        \n",
            "                                                                                                  \n",
            " block_4_add (Add)              (None, 28, 28, 32)   0           ['block_3_project_BN[0][0]',     \n",
            "                                                                  'block_4_project_BN[0][0]']     \n",
            "                                                                                                  \n",
            " block_5_expand (Conv2D)        (None, 28, 28, 192)  6144        ['block_4_add[0][0]']            \n",
            "                                                                                                  \n",
            " block_5_expand_BN (BatchNormal  (None, 28, 28, 192)  768        ['block_5_expand[0][0]']         \n",
            " ization)                                                                                         \n",
            "                                                                                                  \n",
            " block_5_expand_relu (ReLU)     (None, 28, 28, 192)  0           ['block_5_expand_BN[0][0]']      \n",
            "                                                                                                  \n",
            " block_5_depthwise (DepthwiseCo  (None, 28, 28, 192)  1728       ['block_5_expand_relu[0][0]']    \n",
            " nv2D)                                                                                            \n",
            "                                                                                                  \n",
            " block_5_depthwise_BN (BatchNor  (None, 28, 28, 192)  768        ['block_5_depthwise[0][0]']      \n",
            " malization)                                                                                      \n",
            "                                                                                                  \n",
            " block_5_depthwise_relu (ReLU)  (None, 28, 28, 192)  0           ['block_5_depthwise_BN[0][0]']   \n",
            "                                                                                                  \n",
            " block_5_project (Conv2D)       (None, 28, 28, 32)   6144        ['block_5_depthwise_relu[0][0]'] \n",
            "                                                                                                  \n",
            " block_5_project_BN (BatchNorma  (None, 28, 28, 32)  128         ['block_5_project[0][0]']        \n",
            " lization)                                                                                        \n",
            "                                                                                                  \n",
            " block_5_add (Add)              (None, 28, 28, 32)   0           ['block_4_add[0][0]',            \n",
            "                                                                  'block_5_project_BN[0][0]']     \n",
            "                                                                                                  \n",
            " block_6_expand (Conv2D)        (None, 28, 28, 192)  6144        ['block_5_add[0][0]']            \n",
            "                                                                                                  \n",
            " block_6_expand_BN (BatchNormal  (None, 28, 28, 192)  768        ['block_6_expand[0][0]']         \n",
            " ization)                                                                                         \n",
            "                                                                                                  \n",
            " block_6_expand_relu (ReLU)     (None, 28, 28, 192)  0           ['block_6_expand_BN[0][0]']      \n",
            "                                                                                                  \n",
            " block_6_pad (ZeroPadding2D)    (None, 29, 29, 192)  0           ['block_6_expand_relu[0][0]']    \n",
            "                                                                                                  \n",
            " block_6_depthwise (DepthwiseCo  (None, 14, 14, 192)  1728       ['block_6_pad[0][0]']            \n",
            " nv2D)                                                                                            \n",
            "                                                                                                  \n",
            " block_6_depthwise_BN (BatchNor  (None, 14, 14, 192)  768        ['block_6_depthwise[0][0]']      \n",
            " malization)                                                                                      \n",
            "                                                                                                  \n",
            " block_6_depthwise_relu (ReLU)  (None, 14, 14, 192)  0           ['block_6_depthwise_BN[0][0]']   \n",
            "                                                                                                  \n",
            " block_6_project (Conv2D)       (None, 14, 14, 64)   12288       ['block_6_depthwise_relu[0][0]'] \n",
            "                                                                                                  \n",
            " block_6_project_BN (BatchNorma  (None, 14, 14, 64)  256         ['block_6_project[0][0]']        \n",
            " lization)                                                                                        \n",
            "                                                                                                  \n",
            " block_7_expand (Conv2D)        (None, 14, 14, 384)  24576       ['block_6_project_BN[0][0]']     \n",
            "                                                                                                  \n",
            " block_7_expand_BN (BatchNormal  (None, 14, 14, 384)  1536       ['block_7_expand[0][0]']         \n",
            " ization)                                                                                         \n",
            "                                                                                                  \n",
            " block_7_expand_relu (ReLU)     (None, 14, 14, 384)  0           ['block_7_expand_BN[0][0]']      \n",
            "                                                                                                  \n",
            " block_7_depthwise (DepthwiseCo  (None, 14, 14, 384)  3456       ['block_7_expand_relu[0][0]']    \n",
            " nv2D)                                                                                            \n",
            "                                                                                                  \n",
            " block_7_depthwise_BN (BatchNor  (None, 14, 14, 384)  1536       ['block_7_depthwise[0][0]']      \n",
            " malization)                                                                                      \n",
            "                                                                                                  \n",
            " block_7_depthwise_relu (ReLU)  (None, 14, 14, 384)  0           ['block_7_depthwise_BN[0][0]']   \n",
            "                                                                                                  \n",
            " block_7_project (Conv2D)       (None, 14, 14, 64)   24576       ['block_7_depthwise_relu[0][0]'] \n",
            "                                                                                                  \n",
            " block_7_project_BN (BatchNorma  (None, 14, 14, 64)  256         ['block_7_project[0][0]']        \n",
            " lization)                                                                                        \n",
            "                                                                                                  \n",
            " block_7_add (Add)              (None, 14, 14, 64)   0           ['block_6_project_BN[0][0]',     \n",
            "                                                                  'block_7_project_BN[0][0]']     \n",
            "                                                                                                  \n",
            " block_8_expand (Conv2D)        (None, 14, 14, 384)  24576       ['block_7_add[0][0]']            \n",
            "                                                                                                  \n",
            " block_8_expand_BN (BatchNormal  (None, 14, 14, 384)  1536       ['block_8_expand[0][0]']         \n",
            " ization)                                                                                         \n",
            "                                                                                                  \n",
            " block_8_expand_relu (ReLU)     (None, 14, 14, 384)  0           ['block_8_expand_BN[0][0]']      \n",
            "                                                                                                  \n",
            " block_8_depthwise (DepthwiseCo  (None, 14, 14, 384)  3456       ['block_8_expand_relu[0][0]']    \n",
            " nv2D)                                                                                            \n",
            "                                                                                                  \n",
            " block_8_depthwise_BN (BatchNor  (None, 14, 14, 384)  1536       ['block_8_depthwise[0][0]']      \n",
            " malization)                                                                                      \n",
            "                                                                                                  \n",
            " block_8_depthwise_relu (ReLU)  (None, 14, 14, 384)  0           ['block_8_depthwise_BN[0][0]']   \n",
            "                                                                                                  \n",
            " block_8_project (Conv2D)       (None, 14, 14, 64)   24576       ['block_8_depthwise_relu[0][0]'] \n",
            "                                                                                                  \n",
            " block_8_project_BN (BatchNorma  (None, 14, 14, 64)  256         ['block_8_project[0][0]']        \n",
            " lization)                                                                                        \n",
            "                                                                                                  \n",
            " block_8_add (Add)              (None, 14, 14, 64)   0           ['block_7_add[0][0]',            \n",
            "                                                                  'block_8_project_BN[0][0]']     \n",
            "                                                                                                  \n",
            " block_9_expand (Conv2D)        (None, 14, 14, 384)  24576       ['block_8_add[0][0]']            \n",
            "                                                                                                  \n",
            " block_9_expand_BN (BatchNormal  (None, 14, 14, 384)  1536       ['block_9_expand[0][0]']         \n",
            " ization)                                                                                         \n",
            "                                                                                                  \n",
            " block_9_expand_relu (ReLU)     (None, 14, 14, 384)  0           ['block_9_expand_BN[0][0]']      \n",
            "                                                                                                  \n",
            " block_9_depthwise (DepthwiseCo  (None, 14, 14, 384)  3456       ['block_9_expand_relu[0][0]']    \n",
            " nv2D)                                                                                            \n",
            "                                                                                                  \n",
            " block_9_depthwise_BN (BatchNor  (None, 14, 14, 384)  1536       ['block_9_depthwise[0][0]']      \n",
            " malization)                                                                                      \n",
            "                                                                                                  \n",
            " block_9_depthwise_relu (ReLU)  (None, 14, 14, 384)  0           ['block_9_depthwise_BN[0][0]']   \n",
            "                                                                                                  \n",
            " block_9_project (Conv2D)       (None, 14, 14, 64)   24576       ['block_9_depthwise_relu[0][0]'] \n",
            "                                                                                                  \n",
            " block_9_project_BN (BatchNorma  (None, 14, 14, 64)  256         ['block_9_project[0][0]']        \n",
            " lization)                                                                                        \n",
            "                                                                                                  \n",
            " block_9_add (Add)              (None, 14, 14, 64)   0           ['block_8_add[0][0]',            \n",
            "                                                                  'block_9_project_BN[0][0]']     \n",
            "                                                                                                  \n",
            " block_10_expand (Conv2D)       (None, 14, 14, 384)  24576       ['block_9_add[0][0]']            \n",
            "                                                                                                  \n",
            " block_10_expand_BN (BatchNorma  (None, 14, 14, 384)  1536       ['block_10_expand[0][0]']        \n",
            " lization)                                                                                        \n",
            "                                                                                                  \n",
            " block_10_expand_relu (ReLU)    (None, 14, 14, 384)  0           ['block_10_expand_BN[0][0]']     \n",
            "                                                                                                  \n",
            " block_10_depthwise (DepthwiseC  (None, 14, 14, 384)  3456       ['block_10_expand_relu[0][0]']   \n",
            " onv2D)                                                                                           \n",
            "                                                                                                  \n",
            " block_10_depthwise_BN (BatchNo  (None, 14, 14, 384)  1536       ['block_10_depthwise[0][0]']     \n",
            " rmalization)                                                                                     \n",
            "                                                                                                  \n",
            " block_10_depthwise_relu (ReLU)  (None, 14, 14, 384)  0          ['block_10_depthwise_BN[0][0]']  \n",
            "                                                                                                  \n",
            " block_10_project (Conv2D)      (None, 14, 14, 96)   36864       ['block_10_depthwise_relu[0][0]']\n",
            "                                                                                                  \n",
            " block_10_project_BN (BatchNorm  (None, 14, 14, 96)  384         ['block_10_project[0][0]']       \n",
            " alization)                                                                                       \n",
            "                                                                                                  \n",
            " block_11_expand (Conv2D)       (None, 14, 14, 576)  55296       ['block_10_project_BN[0][0]']    \n",
            "                                                                                                  \n",
            " block_11_expand_BN (BatchNorma  (None, 14, 14, 576)  2304       ['block_11_expand[0][0]']        \n",
            " lization)                                                                                        \n",
            "                                                                                                  \n",
            " block_11_expand_relu (ReLU)    (None, 14, 14, 576)  0           ['block_11_expand_BN[0][0]']     \n",
            "                                                                                                  \n",
            " block_11_depthwise (DepthwiseC  (None, 14, 14, 576)  5184       ['block_11_expand_relu[0][0]']   \n",
            " onv2D)                                                                                           \n",
            "                                                                                                  \n",
            " block_11_depthwise_BN (BatchNo  (None, 14, 14, 576)  2304       ['block_11_depthwise[0][0]']     \n",
            " rmalization)                                                                                     \n",
            "                                                                                                  \n",
            " block_11_depthwise_relu (ReLU)  (None, 14, 14, 576)  0          ['block_11_depthwise_BN[0][0]']  \n",
            "                                                                                                  \n",
            " block_11_project (Conv2D)      (None, 14, 14, 96)   55296       ['block_11_depthwise_relu[0][0]']\n",
            "                                                                                                  \n",
            " block_11_project_BN (BatchNorm  (None, 14, 14, 96)  384         ['block_11_project[0][0]']       \n",
            " alization)                                                                                       \n",
            "                                                                                                  \n",
            " block_11_add (Add)             (None, 14, 14, 96)   0           ['block_10_project_BN[0][0]',    \n",
            "                                                                  'block_11_project_BN[0][0]']    \n",
            "                                                                                                  \n",
            " block_12_expand (Conv2D)       (None, 14, 14, 576)  55296       ['block_11_add[0][0]']           \n",
            "                                                                                                  \n",
            " block_12_expand_BN (BatchNorma  (None, 14, 14, 576)  2304       ['block_12_expand[0][0]']        \n",
            " lization)                                                                                        \n",
            "                                                                                                  \n",
            " block_12_expand_relu (ReLU)    (None, 14, 14, 576)  0           ['block_12_expand_BN[0][0]']     \n",
            "                                                                                                  \n",
            " block_12_depthwise (DepthwiseC  (None, 14, 14, 576)  5184       ['block_12_expand_relu[0][0]']   \n",
            " onv2D)                                                                                           \n",
            "                                                                                                  \n",
            " block_12_depthwise_BN (BatchNo  (None, 14, 14, 576)  2304       ['block_12_depthwise[0][0]']     \n",
            " rmalization)                                                                                     \n",
            "                                                                                                  \n",
            " block_12_depthwise_relu (ReLU)  (None, 14, 14, 576)  0          ['block_12_depthwise_BN[0][0]']  \n",
            "                                                                                                  \n",
            " block_12_project (Conv2D)      (None, 14, 14, 96)   55296       ['block_12_depthwise_relu[0][0]']\n",
            "                                                                                                  \n",
            " block_12_project_BN (BatchNorm  (None, 14, 14, 96)  384         ['block_12_project[0][0]']       \n",
            " alization)                                                                                       \n",
            "                                                                                                  \n",
            " block_12_add (Add)             (None, 14, 14, 96)   0           ['block_11_add[0][0]',           \n",
            "                                                                  'block_12_project_BN[0][0]']    \n",
            "                                                                                                  \n",
            " block_13_expand (Conv2D)       (None, 14, 14, 576)  55296       ['block_12_add[0][0]']           \n",
            "                                                                                                  \n",
            " block_13_expand_BN (BatchNorma  (None, 14, 14, 576)  2304       ['block_13_expand[0][0]']        \n",
            " lization)                                                                                        \n",
            "                                                                                                  \n",
            " block_13_expand_relu (ReLU)    (None, 14, 14, 576)  0           ['block_13_expand_BN[0][0]']     \n",
            "                                                                                                  \n",
            " block_13_pad (ZeroPadding2D)   (None, 15, 15, 576)  0           ['block_13_expand_relu[0][0]']   \n",
            "                                                                                                  \n",
            " block_13_depthwise (DepthwiseC  (None, 7, 7, 576)   5184        ['block_13_pad[0][0]']           \n",
            " onv2D)                                                                                           \n",
            "                                                                                                  \n",
            " block_13_depthwise_BN (BatchNo  (None, 7, 7, 576)   2304        ['block_13_depthwise[0][0]']     \n",
            " rmalization)                                                                                     \n",
            "                                                                                                  \n",
            " block_13_depthwise_relu (ReLU)  (None, 7, 7, 576)   0           ['block_13_depthwise_BN[0][0]']  \n",
            "                                                                                                  \n",
            " block_13_project (Conv2D)      (None, 7, 7, 160)    92160       ['block_13_depthwise_relu[0][0]']\n",
            "                                                                                                  \n",
            " block_13_project_BN (BatchNorm  (None, 7, 7, 160)   640         ['block_13_project[0][0]']       \n",
            " alization)                                                                                       \n",
            "                                                                                                  \n",
            " block_14_expand (Conv2D)       (None, 7, 7, 960)    153600      ['block_13_project_BN[0][0]']    \n",
            "                                                                                                  \n",
            " block_14_expand_BN (BatchNorma  (None, 7, 7, 960)   3840        ['block_14_expand[0][0]']        \n",
            " lization)                                                                                        \n",
            "                                                                                                  \n",
            " block_14_expand_relu (ReLU)    (None, 7, 7, 960)    0           ['block_14_expand_BN[0][0]']     \n",
            "                                                                                                  \n",
            " block_14_depthwise (DepthwiseC  (None, 7, 7, 960)   8640        ['block_14_expand_relu[0][0]']   \n",
            " onv2D)                                                                                           \n",
            "                                                                                                  \n",
            " block_14_depthwise_BN (BatchNo  (None, 7, 7, 960)   3840        ['block_14_depthwise[0][0]']     \n",
            " rmalization)                                                                                     \n",
            "                                                                                                  \n",
            " block_14_depthwise_relu (ReLU)  (None, 7, 7, 960)   0           ['block_14_depthwise_BN[0][0]']  \n",
            "                                                                                                  \n",
            " block_14_project (Conv2D)      (None, 7, 7, 160)    153600      ['block_14_depthwise_relu[0][0]']\n",
            "                                                                                                  \n",
            " block_14_project_BN (BatchNorm  (None, 7, 7, 160)   640         ['block_14_project[0][0]']       \n",
            " alization)                                                                                       \n",
            "                                                                                                  \n",
            " block_14_add (Add)             (None, 7, 7, 160)    0           ['block_13_project_BN[0][0]',    \n",
            "                                                                  'block_14_project_BN[0][0]']    \n",
            "                                                                                                  \n",
            " block_15_expand (Conv2D)       (None, 7, 7, 960)    153600      ['block_14_add[0][0]']           \n",
            "                                                                                                  \n",
            " block_15_expand_BN (BatchNorma  (None, 7, 7, 960)   3840        ['block_15_expand[0][0]']        \n",
            " lization)                                                                                        \n",
            "                                                                                                  \n",
            " block_15_expand_relu (ReLU)    (None, 7, 7, 960)    0           ['block_15_expand_BN[0][0]']     \n",
            "                                                                                                  \n",
            " block_15_depthwise (DepthwiseC  (None, 7, 7, 960)   8640        ['block_15_expand_relu[0][0]']   \n",
            " onv2D)                                                                                           \n",
            "                                                                                                  \n",
            " block_15_depthwise_BN (BatchNo  (None, 7, 7, 960)   3840        ['block_15_depthwise[0][0]']     \n",
            " rmalization)                                                                                     \n",
            "                                                                                                  \n",
            " block_15_depthwise_relu (ReLU)  (None, 7, 7, 960)   0           ['block_15_depthwise_BN[0][0]']  \n",
            "                                                                                                  \n",
            " block_15_project (Conv2D)      (None, 7, 7, 160)    153600      ['block_15_depthwise_relu[0][0]']\n",
            "                                                                                                  \n",
            " block_15_project_BN (BatchNorm  (None, 7, 7, 160)   640         ['block_15_project[0][0]']       \n",
            " alization)                                                                                       \n",
            "                                                                                                  \n",
            " block_15_add (Add)             (None, 7, 7, 160)    0           ['block_14_add[0][0]',           \n",
            "                                                                  'block_15_project_BN[0][0]']    \n",
            "                                                                                                  \n",
            " block_16_expand (Conv2D)       (None, 7, 7, 960)    153600      ['block_15_add[0][0]']           \n",
            "                                                                                                  \n",
            " block_16_expand_BN (BatchNorma  (None, 7, 7, 960)   3840        ['block_16_expand[0][0]']        \n",
            " lization)                                                                                        \n",
            "                                                                                                  \n",
            " block_16_expand_relu (ReLU)    (None, 7, 7, 960)    0           ['block_16_expand_BN[0][0]']     \n",
            "                                                                                                  \n",
            " block_16_depthwise (DepthwiseC  (None, 7, 7, 960)   8640        ['block_16_expand_relu[0][0]']   \n",
            " onv2D)                                                                                           \n",
            "                                                                                                  \n",
            " block_16_depthwise_BN (BatchNo  (None, 7, 7, 960)   3840        ['block_16_depthwise[0][0]']     \n",
            " rmalization)                                                                                     \n",
            "                                                                                                  \n",
            " block_16_depthwise_relu (ReLU)  (None, 7, 7, 960)   0           ['block_16_depthwise_BN[0][0]']  \n",
            "                                                                                                  \n",
            " block_16_project (Conv2D)      (None, 7, 7, 320)    307200      ['block_16_depthwise_relu[0][0]']\n",
            "                                                                                                  \n",
            " block_16_project_BN (BatchNorm  (None, 7, 7, 320)   1280        ['block_16_project[0][0]']       \n",
            " alization)                                                                                       \n",
            "                                                                                                  \n",
            " Conv_1 (Conv2D)                (None, 7, 7, 1280)   409600      ['block_16_project_BN[0][0]']    \n",
            "                                                                                                  \n",
            " Conv_1_bn (BatchNormalization)  (None, 7, 7, 1280)  5120        ['Conv_1[0][0]']                 \n",
            "                                                                                                  \n",
            " out_relu (ReLU)                (None, 7, 7, 1280)   0           ['Conv_1_bn[0][0]']              \n",
            "                                                                                                  \n",
            "==================================================================================================\n",
            "Total params: 2,257,984\n",
            "Trainable params: 0\n",
            "Non-trainable params: 2,257,984\n",
            "__________________________________________________________________________________________________\n"
          ]
        }
      ],
      "source": [
        "mbnet.summary()"
      ]
    },
    {
      "cell_type": "code",
      "execution_count": 17,
      "metadata": {
        "id": "ajb0QxOLEYnW"
      },
      "outputs": [],
      "source": [
        "from keras.layers import Dense, GlobalAveragePooling2D, Flatten"
      ]
    },
    {
      "cell_type": "code",
      "source": [
        "from keras.layers import Dense, Flatten, Conv2D, MaxPooling2D, Activation, BatchNormalization, Dropout , GlobalAveragePooling2D"
      ],
      "metadata": {
        "id": "eK7oCVO_SHUS"
      },
      "execution_count": 18,
      "outputs": []
    },
    {
      "cell_type": "code",
      "execution_count": 31,
      "metadata": {
        "id": "MkpnoJT1EYnX"
      },
      "outputs": [],
      "source": [
        "model = Sequential([\n",
        "    mbnet,\n",
        "    GlobalAveragePooling2D(),\n",
        "    Dense(200, activation='relu'),\n",
        "    #  BatchNormalization(),\n",
        "    tf.keras.layers.Dropout(0.2),\n",
        "    Dense(3, activation='softmax')\n",
        "\n",
        "    # GlobalAveragePooling2D(),\n",
        "    # BatchNormalization(),\n",
        "    # Dense(256,activation='relu'),\n",
        "    # BatchNormalization(),\n",
        "    # Dense(200,activation='relu'),\n",
        "    # BatchNormalization(),\n",
        "    # Dense(3,activation='softmax')\n",
        "])"
      ]
    },
    {
      "cell_type": "code",
      "execution_count": 32,
      "metadata": {
        "colab": {
          "base_uri": "https://localhost:8080/"
        },
        "id": "eqYmZONmEYnY",
        "outputId": "f55f69aa-8ca5-4794-b7b7-ee211bf6e5e2"
      },
      "outputs": [
        {
          "output_type": "stream",
          "name": "stdout",
          "text": [
            "Model: \"sequential_1\"\n",
            "_________________________________________________________________\n",
            " Layer (type)                Output Shape              Param #   \n",
            "=================================================================\n",
            " mobilenetv2_1.00_224 (Funct  (None, 7, 7, 1280)       2257984   \n",
            " ional)                                                          \n",
            "                                                                 \n",
            " global_average_pooling2d_1   (None, 1280)             0         \n",
            " (GlobalAveragePooling2D)                                        \n",
            "                                                                 \n",
            " dense_2 (Dense)             (None, 200)               256200    \n",
            "                                                                 \n",
            " dropout (Dropout)           (None, 200)               0         \n",
            "                                                                 \n",
            " dense_3 (Dense)             (None, 3)                 603       \n",
            "                                                                 \n",
            "=================================================================\n",
            "Total params: 2,514,787\n",
            "Trainable params: 256,803\n",
            "Non-trainable params: 2,257,984\n",
            "_________________________________________________________________\n"
          ]
        }
      ],
      "source": [
        "model.summary()"
      ]
    },
    {
      "cell_type": "code",
      "source": [
        "from keras.optimizers import Adam"
      ],
      "metadata": {
        "id": "B223XjbwLF9m"
      },
      "execution_count": 33,
      "outputs": []
    },
    {
      "cell_type": "code",
      "execution_count": 34,
      "metadata": {
        "id": "UJsu8Op7EYnY"
      },
      "outputs": [],
      "source": [
        "model.compile(\n",
        "    optimizer=Adam(learning_rate=0.001),\n",
        "    # optimizer ='sgd',\n",
        "    loss='categorical_crossentropy',\n",
        "    metrics=['accuracy']\n",
        ")"
      ]
    },
    {
      "cell_type": "code",
      "execution_count": 99,
      "metadata": {
        "id": "15d0gQOjEYnZ"
      },
      "outputs": [],
      "source": []
    },
    {
      "cell_type": "code",
      "execution_count": 103,
      "metadata": {
        "id": "PRS8i6oyEYnZ"
      },
      "outputs": [],
      "source": [
        "from PIL import Image\n"
      ]
    },
    {
      "cell_type": "code",
      "execution_count": 35,
      "metadata": {
        "colab": {
          "base_uri": "https://localhost:8080/"
        },
        "id": "q_I8eJhAEYna",
        "outputId": "692c6d60-abdf-47de-addf-3780dae42d25"
      },
      "outputs": [
        {
          "output_type": "stream",
          "name": "stdout",
          "text": [
            "Epoch 1/40\n",
            "4/4 [==============================] - 8s 2s/step - loss: 1.3925 - accuracy: 0.4916 - val_loss: 0.8572 - val_accuracy: 0.6716\n",
            "Epoch 2/40\n",
            "4/4 [==============================] - 5s 1s/step - loss: 0.6539 - accuracy: 0.7479 - val_loss: 0.5748 - val_accuracy: 0.7761\n",
            "Epoch 3/40\n",
            "4/4 [==============================] - 4s 1s/step - loss: 0.4681 - accuracy: 0.8067 - val_loss: 0.4150 - val_accuracy: 0.8507\n",
            "Epoch 4/40\n",
            "4/4 [==============================] - 4s 1s/step - loss: 0.3415 - accuracy: 0.8571 - val_loss: 0.4279 - val_accuracy: 0.8358\n",
            "Epoch 5/40\n",
            "4/4 [==============================] - 5s 1s/step - loss: 0.3608 - accuracy: 0.8697 - val_loss: 0.5296 - val_accuracy: 0.7910\n",
            "Epoch 6/40\n",
            "4/4 [==============================] - 4s 1s/step - loss: 0.3156 - accuracy: 0.8782 - val_loss: 0.3940 - val_accuracy: 0.8955\n",
            "Epoch 7/40\n",
            "4/4 [==============================] - 4s 1s/step - loss: 0.3236 - accuracy: 0.8908 - val_loss: 0.3621 - val_accuracy: 0.8955\n",
            "Epoch 8/40\n",
            "4/4 [==============================] - 4s 1s/step - loss: 0.2174 - accuracy: 0.9244 - val_loss: 0.5030 - val_accuracy: 0.8507\n",
            "Epoch 9/40\n",
            "4/4 [==============================] - 4s 966ms/step - loss: 0.2360 - accuracy: 0.9160 - val_loss: 0.3892 - val_accuracy: 0.8209\n",
            "Epoch 10/40\n",
            "4/4 [==============================] - 4s 1s/step - loss: 0.2309 - accuracy: 0.8992 - val_loss: 0.3772 - val_accuracy: 0.8657\n",
            "Epoch 11/40\n",
            "4/4 [==============================] - 5s 1s/step - loss: 0.2232 - accuracy: 0.9202 - val_loss: 0.2778 - val_accuracy: 0.8806\n",
            "Epoch 12/40\n",
            "4/4 [==============================] - 4s 898ms/step - loss: 0.1704 - accuracy: 0.9328 - val_loss: 0.3392 - val_accuracy: 0.9104\n",
            "Epoch 13/40\n",
            "4/4 [==============================] - 4s 922ms/step - loss: 0.1911 - accuracy: 0.9328 - val_loss: 0.3865 - val_accuracy: 0.8955\n",
            "Epoch 14/40\n",
            "4/4 [==============================] - 5s 1s/step - loss: 0.1527 - accuracy: 0.9538 - val_loss: 0.2395 - val_accuracy: 0.8955\n",
            "Epoch 15/40\n",
            "4/4 [==============================] - 4s 1s/step - loss: 0.1576 - accuracy: 0.9244 - val_loss: 0.3404 - val_accuracy: 0.8657\n",
            "Epoch 16/40\n",
            "4/4 [==============================] - 4s 1s/step - loss: 0.1520 - accuracy: 0.9412 - val_loss: 0.2679 - val_accuracy: 0.9104\n",
            "Epoch 17/40\n",
            "4/4 [==============================] - 5s 1s/step - loss: 0.1423 - accuracy: 0.9538 - val_loss: 0.3456 - val_accuracy: 0.8507\n",
            "Epoch 18/40\n",
            "4/4 [==============================] - 4s 965ms/step - loss: 0.1081 - accuracy: 0.9664 - val_loss: 0.3939 - val_accuracy: 0.8806\n",
            "Epoch 19/40\n",
            "4/4 [==============================] - 4s 986ms/step - loss: 0.1080 - accuracy: 0.9622 - val_loss: 0.2658 - val_accuracy: 0.8955\n",
            "Epoch 20/40\n",
            "4/4 [==============================] - 5s 1s/step - loss: 0.1219 - accuracy: 0.9580 - val_loss: 0.3489 - val_accuracy: 0.8806\n",
            "Epoch 21/40\n",
            "4/4 [==============================] - 4s 1s/step - loss: 0.1141 - accuracy: 0.9622 - val_loss: 0.3175 - val_accuracy: 0.8806\n",
            "Epoch 22/40\n",
            "4/4 [==============================] - 4s 969ms/step - loss: 0.0943 - accuracy: 0.9748 - val_loss: 0.3398 - val_accuracy: 0.8806\n",
            "Epoch 23/40\n",
            "4/4 [==============================] - 5s 1s/step - loss: 0.0964 - accuracy: 0.9538 - val_loss: 0.4062 - val_accuracy: 0.8507\n",
            "Epoch 24/40\n",
            "4/4 [==============================] - 4s 894ms/step - loss: 0.0819 - accuracy: 0.9664 - val_loss: 0.5087 - val_accuracy: 0.7910\n",
            "Epoch 25/40\n",
            "4/4 [==============================] - 4s 946ms/step - loss: 0.1105 - accuracy: 0.9706 - val_loss: 0.2866 - val_accuracy: 0.8209\n",
            "Epoch 26/40\n",
            "4/4 [==============================] - 5s 1s/step - loss: 0.0758 - accuracy: 0.9748 - val_loss: 0.4085 - val_accuracy: 0.8507\n",
            "Epoch 27/40\n",
            "4/4 [==============================] - 4s 989ms/step - loss: 0.0801 - accuracy: 0.9748 - val_loss: 0.3218 - val_accuracy: 0.9254\n",
            "Epoch 28/40\n",
            "4/4 [==============================] - 4s 944ms/step - loss: 0.1001 - accuracy: 0.9580 - val_loss: 0.3498 - val_accuracy: 0.8806\n",
            "Epoch 29/40\n",
            "4/4 [==============================] - 5s 1s/step - loss: 0.0665 - accuracy: 0.9706 - val_loss: 0.3954 - val_accuracy: 0.8657\n",
            "Epoch 30/40\n",
            "4/4 [==============================] - 4s 1s/step - loss: 0.0533 - accuracy: 0.9874 - val_loss: 0.2964 - val_accuracy: 0.9254\n",
            "Epoch 31/40\n",
            "4/4 [==============================] - 4s 1s/step - loss: 0.0853 - accuracy: 0.9664 - val_loss: 0.3590 - val_accuracy: 0.9552\n",
            "Epoch 32/40\n",
            "4/4 [==============================] - 5s 2s/step - loss: 0.0795 - accuracy: 0.9748 - val_loss: 0.4784 - val_accuracy: 0.8358\n",
            "Epoch 33/40\n",
            "4/4 [==============================] - 4s 995ms/step - loss: 0.0744 - accuracy: 0.9790 - val_loss: 0.4193 - val_accuracy: 0.8657\n",
            "Epoch 34/40\n",
            "4/4 [==============================] - 4s 1s/step - loss: 0.1014 - accuracy: 0.9580 - val_loss: 0.4999 - val_accuracy: 0.8060\n",
            "Epoch 35/40\n",
            "4/4 [==============================] - 5s 2s/step - loss: 0.0578 - accuracy: 0.9832 - val_loss: 0.3369 - val_accuracy: 0.8806\n",
            "Epoch 36/40\n",
            "4/4 [==============================] - 4s 945ms/step - loss: 0.0696 - accuracy: 0.9790 - val_loss: 0.4311 - val_accuracy: 0.8657\n",
            "Epoch 37/40\n",
            "4/4 [==============================] - 4s 1s/step - loss: 0.1075 - accuracy: 0.9706 - val_loss: 0.4607 - val_accuracy: 0.8507\n",
            "Epoch 38/40\n",
            "4/4 [==============================] - 5s 1s/step - loss: 0.0842 - accuracy: 0.9748 - val_loss: 0.5015 - val_accuracy: 0.8209\n",
            "Epoch 39/40\n",
            "4/4 [==============================] - 4s 1s/step - loss: 0.0426 - accuracy: 0.9874 - val_loss: 0.4287 - val_accuracy: 0.9254\n",
            "Epoch 40/40\n",
            "4/4 [==============================] - 4s 1s/step - loss: 0.0744 - accuracy: 0.9790 - val_loss: 0.3461 - val_accuracy: 0.9254\n"
          ]
        }
      ],
      "source": [
        "history = model.fit(\n",
        "    train_data, \n",
        "    validation_data=val_data, \n",
        "    epochs=40,\n",
        "    batch_size=128, \n",
        ")"
      ]
    },
    {
      "cell_type": "code",
      "source": [
        "# draw graph for train and validation accuracy\n",
        "plt.plot(history.history['accuracy'])\n",
        "plt.plot(history.history['val_accuracy'])\n",
        "plt.title('Model Accuracy')\n",
        "plt.ylabel('Accuracy')\n",
        "plt.xlabel('Epoch')\n",
        "plt.legend(['Train', 'Val'], loc='upper left')\n",
        "plt.show()"
      ],
      "metadata": {
        "colab": {
          "base_uri": "https://localhost:8080/",
          "height": 472
        },
        "id": "h07AhfJuX8MC",
        "outputId": "ba59c8ca-f4de-42b5-80a6-93616a70cc19"
      },
      "execution_count": 36,
      "outputs": [
        {
          "output_type": "display_data",
          "data": {
            "text/plain": [
              "<Figure size 640x480 with 1 Axes>"
            ],
            "image/png": "[encoded data removed]"
          },
          "metadata": {}
        }
      ]
    },
    {
      "cell_type": "code",
      "source": [
        "# loss\n",
        "plt.plot(history.history['loss'])\n",
        "plt.plot(history.history['val_loss'])\n",
        "plt.title('Model Loss')\n",
        "plt.ylabel('Loss')\n",
        "plt.xlabel('Epoch')\n",
        "plt.legend(['Train', 'Val'], loc='upper left')\n",
        "plt.show()"
      ],
      "metadata": {
        "colab": {
          "base_uri": "https://localhost:8080/",
          "height": 472
        },
        "id": "WyGNoyg8cT7X",
        "outputId": "b1a0f2d3-9f77-4604-8598-ccf6084382cc"
      },
      "execution_count": 37,
      "outputs": [
        {
          "output_type": "display_data",
          "data": {
            "text/plain": [
              "<Figure size 640x480 with 1 Axes>"
            ],
            "image/png": "[encoded data removed]"
          },
          "metadata": {}
        }
      ]
    },
    {
      "cell_type": "code",
      "execution_count": 27,
      "metadata": {
        "id": "jLaAXx3IEYnb"
      },
      "outputs": [],
      "source": [
        "import sys\n",
        "from PIL import Image\n",
        "sys.modules['Image'] = Image"
      ]
    },
    {
      "cell_type": "code",
      "execution_count": 38,
      "metadata": {
        "colab": {
          "base_uri": "https://localhost:8080/",
          "height": 469
        },
        "id": "Uz-1bK9vEYnb",
        "outputId": "bf2478d4-5e0f-41c3-b118-af36133ef09c"
      },
      "outputs": [
        {
          "output_type": "execute_result",
          "data": {
            "text/plain": [
              "[<matplotlib.lines.Line2D at 0x7f5c60803700>]"
            ]
          },
          "metadata": {},
          "execution_count": 38
        },
        {
          "output_type": "display_data",
          "data": {
            "text/plain": [
              "<Figure size 640x480 with 1 Axes>"
            ],
            "image/png": "[encoded data removed]"
          },
          "metadata": {}
        }
      ],
      "source": [
        "plt.title('loss ')\n",
        "plt.plot(history.history['loss'], marker='o')"
      ]
    },
    {
      "cell_type": "code",
      "execution_count": 39,
      "metadata": {
        "colab": {
          "base_uri": "https://localhost:8080/",
          "height": 469
        },
        "id": "pMobPs_6EYnc",
        "outputId": "ae98d768-feeb-4885-f57a-8912ae0f15e6"
      },
      "outputs": [
        {
          "output_type": "execute_result",
          "data": {
            "text/plain": [
              "[<matplotlib.lines.Line2D at 0x7f5c607e1550>]"
            ]
          },
          "metadata": {},
          "execution_count": 39
        },
        {
          "output_type": "display_data",
          "data": {
            "text/plain": [
              "<Figure size 640x480 with 1 Axes>"
            ],
            "image/png": "[encoded data removed]"
          },
          "metadata": {}
        }
      ],
      "source": [
        "plt.title('Validation loss')\n",
        "plt.plot(history.history['val_loss'], marker = 'o')"
      ]
    },
    {
      "cell_type": "markdown",
      "metadata": {
        "id": "sw9-HEFSEYnd"
      },
      "source": [
        "building a custom deep learning model "
      ]
    },
    {
      "cell_type": "code",
      "execution_count": 41,
      "metadata": {
        "id": "eThoxo7aEYnd"
      },
      "outputs": [],
      "source": [
        "model.save('/content/drive/MyDrive/resent weed detection/mbnet_epochs_40(1).h5')"
      ]
    },
    {
      "cell_type": "code",
      "source": [],
      "metadata": {
        "id": "bQ5jCTCJujtq"
      },
      "execution_count": null,
      "outputs": []
    }
  ],
  "metadata": {
    "kernelspec": {
      "display_name": "Python 3",
      "language": "python",
      "name": "python3"
    },
    "language_info": {
      "codemirror_mode": {
        "name": "ipython",
        "version": 3
      },
      "file_extension": ".py",
      "mimetype": "text/x-python",
      "name": "python",
      "nbconvert_exporter": "python",
      "pygments_lexer": "ipython3",
      "version": "3.9.16"
    },
    "orig_nbformat": 4,
    "vscode": {
      "interpreter": {
        "hash": "26cf68742aac784adabd923c1dac21f1e5dfa08255367d7ab08bc45c4076e36f"
      }
    },
    "colab": {
      "provenance": [],
      "gpuType": "T4",
      "include_colab_link": true
    },
    "accelerator": "GPU",
    "gpuClass": "standard"
  },
  "nbformat": 4,
  "nbformat_minor": 0
}